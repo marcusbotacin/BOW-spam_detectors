{
  "nbformat": 4,
  "nbformat_minor": 0,
  "metadata": {
    "colab": {
      "provenance": []
    },
    "kernelspec": {
      "name": "python3",
      "display_name": "Python 3"
    },
    "language_info": {
      "name": "python"
    }
  },
  "cells": [
    {
      "cell_type": "code",
      "execution_count": 1,
      "metadata": {
        "id": "SXjuR8lx4Mci"
      },
      "outputs": [],
      "source": [
        "import numpy as np\n",
        "import pandas as pd\n",
        "import matplotlib.pyplot as plt"
      ]
    },
    {
      "cell_type": "code",
      "source": [
        "df = pd.read_csv('merged_urls_with_label.csv')"
      ],
      "metadata": {
        "id": "McSltvmv8Kbr"
      },
      "execution_count": 2,
      "outputs": []
    },
    {
      "cell_type": "code",
      "source": [
        "df.shape"
      ],
      "metadata": {
        "colab": {
          "base_uri": "https://localhost:8080/"
        },
        "id": "zXJqLvKVHB6K",
        "outputId": "19f0e2f0-34d5-45a7-d6fb-729e5c97158b"
      },
      "execution_count": 3,
      "outputs": [
        {
          "output_type": "execute_result",
          "data": {
            "text/plain": [
              "(4000, 3)"
            ]
          },
          "metadata": {},
          "execution_count": 3
        }
      ]
    },
    {
      "cell_type": "code",
      "source": [
        "df.head()"
      ],
      "metadata": {
        "colab": {
          "base_uri": "https://localhost:8080/",
          "height": 206
        },
        "id": "niq73C2ZCt8i",
        "outputId": "07161612-9f52-422e-fc41-fa8f963c77a7"
      },
      "execution_count": 4,
      "outputs": [
        {
          "output_type": "execute_result",
          "data": {
            "text/plain": [
              "  Category                                                URL  Label\n",
              "0      HAM  https://urlscan.io/result/e6cb5bed-fa87-4317-b...      0\n",
              "1      HAM  https://www.mercadopago.com.br/added on May 26...      0\n",
              "2      HAM  https://onedrive.live.com/about/es-us-signin/a...      0\n",
              "3      HAM  http://url.zp.edu.ua/added on May 26th 2023 5:...      0\n",
              "4      HAM  https://bitflyer.com/en-us/added on May 26th 2...      0"
            ],
            "text/html": [
              "\n",
              "  <div id=\"df-fa8c0609-5a6d-4ede-89a0-7a6456a639ad\">\n",
              "    <div class=\"colab-df-container\">\n",
              "      <div>\n",
              "<style scoped>\n",
              "    .dataframe tbody tr th:only-of-type {\n",
              "        vertical-align: middle;\n",
              "    }\n",
              "\n",
              "    .dataframe tbody tr th {\n",
              "        vertical-align: top;\n",
              "    }\n",
              "\n",
              "    .dataframe thead th {\n",
              "        text-align: right;\n",
              "    }\n",
              "</style>\n",
              "<table border=\"1\" class=\"dataframe\">\n",
              "  <thead>\n",
              "    <tr style=\"text-align: right;\">\n",
              "      <th></th>\n",
              "      <th>Category</th>\n",
              "      <th>URL</th>\n",
              "      <th>Label</th>\n",
              "    </tr>\n",
              "  </thead>\n",
              "  <tbody>\n",
              "    <tr>\n",
              "      <th>0</th>\n",
              "      <td>HAM</td>\n",
              "      <td>https://urlscan.io/result/e6cb5bed-fa87-4317-b...</td>\n",
              "      <td>0</td>\n",
              "    </tr>\n",
              "    <tr>\n",
              "      <th>1</th>\n",
              "      <td>HAM</td>\n",
              "      <td>https://www.mercadopago.com.br/added on May 26...</td>\n",
              "      <td>0</td>\n",
              "    </tr>\n",
              "    <tr>\n",
              "      <th>2</th>\n",
              "      <td>HAM</td>\n",
              "      <td>https://onedrive.live.com/about/es-us-signin/a...</td>\n",
              "      <td>0</td>\n",
              "    </tr>\n",
              "    <tr>\n",
              "      <th>3</th>\n",
              "      <td>HAM</td>\n",
              "      <td>http://url.zp.edu.ua/added on May 26th 2023 5:...</td>\n",
              "      <td>0</td>\n",
              "    </tr>\n",
              "    <tr>\n",
              "      <th>4</th>\n",
              "      <td>HAM</td>\n",
              "      <td>https://bitflyer.com/en-us/added on May 26th 2...</td>\n",
              "      <td>0</td>\n",
              "    </tr>\n",
              "  </tbody>\n",
              "</table>\n",
              "</div>\n",
              "      <button class=\"colab-df-convert\" onclick=\"convertToInteractive('df-fa8c0609-5a6d-4ede-89a0-7a6456a639ad')\"\n",
              "              title=\"Convert this dataframe to an interactive table.\"\n",
              "              style=\"display:none;\">\n",
              "        \n",
              "  <svg xmlns=\"http://www.w3.org/2000/svg\" height=\"24px\"viewBox=\"0 0 24 24\"\n",
              "       width=\"24px\">\n",
              "    <path d=\"M0 0h24v24H0V0z\" fill=\"none\"/>\n",
              "    <path d=\"M18.56 5.44l.94 2.06.94-2.06 2.06-.94-2.06-.94-.94-2.06-.94 2.06-2.06.94zm-11 1L8.5 8.5l.94-2.06 2.06-.94-2.06-.94L8.5 2.5l-.94 2.06-2.06.94zm10 10l.94 2.06.94-2.06 2.06-.94-2.06-.94-.94-2.06-.94 2.06-2.06.94z\"/><path d=\"M17.41 7.96l-1.37-1.37c-.4-.4-.92-.59-1.43-.59-.52 0-1.04.2-1.43.59L10.3 9.45l-7.72 7.72c-.78.78-.78 2.05 0 2.83L4 21.41c.39.39.9.59 1.41.59.51 0 1.02-.2 1.41-.59l7.78-7.78 2.81-2.81c.8-.78.8-2.07 0-2.86zM5.41 20L4 18.59l7.72-7.72 1.47 1.35L5.41 20z\"/>\n",
              "  </svg>\n",
              "      </button>\n",
              "      \n",
              "  <style>\n",
              "    .colab-df-container {\n",
              "      display:flex;\n",
              "      flex-wrap:wrap;\n",
              "      gap: 12px;\n",
              "    }\n",
              "\n",
              "    .colab-df-convert {\n",
              "      background-color: #E8F0FE;\n",
              "      border: none;\n",
              "      border-radius: 50%;\n",
              "      cursor: pointer;\n",
              "      display: none;\n",
              "      fill: #1967D2;\n",
              "      height: 32px;\n",
              "      padding: 0 0 0 0;\n",
              "      width: 32px;\n",
              "    }\n",
              "\n",
              "    .colab-df-convert:hover {\n",
              "      background-color: #E2EBFA;\n",
              "      box-shadow: 0px 1px 2px rgba(60, 64, 67, 0.3), 0px 1px 3px 1px rgba(60, 64, 67, 0.15);\n",
              "      fill: #174EA6;\n",
              "    }\n",
              "\n",
              "    [theme=dark] .colab-df-convert {\n",
              "      background-color: #3B4455;\n",
              "      fill: #D2E3FC;\n",
              "    }\n",
              "\n",
              "    [theme=dark] .colab-df-convert:hover {\n",
              "      background-color: #434B5C;\n",
              "      box-shadow: 0px 1px 3px 1px rgba(0, 0, 0, 0.15);\n",
              "      filter: drop-shadow(0px 1px 2px rgba(0, 0, 0, 0.3));\n",
              "      fill: #FFFFFF;\n",
              "    }\n",
              "  </style>\n",
              "\n",
              "      <script>\n",
              "        const buttonEl =\n",
              "          document.querySelector('#df-fa8c0609-5a6d-4ede-89a0-7a6456a639ad button.colab-df-convert');\n",
              "        buttonEl.style.display =\n",
              "          google.colab.kernel.accessAllowed ? 'block' : 'none';\n",
              "\n",
              "        async function convertToInteractive(key) {\n",
              "          const element = document.querySelector('#df-fa8c0609-5a6d-4ede-89a0-7a6456a639ad');\n",
              "          const dataTable =\n",
              "            await google.colab.kernel.invokeFunction('convertToInteractive',\n",
              "                                                     [key], {});\n",
              "          if (!dataTable) return;\n",
              "\n",
              "          const docLinkHtml = 'Like what you see? Visit the ' +\n",
              "            '<a target=\"_blank\" href=https://colab.research.google.com/notebooks/data_table.ipynb>data table notebook</a>'\n",
              "            + ' to learn more about interactive tables.';\n",
              "          element.innerHTML = '';\n",
              "          dataTable['output_type'] = 'display_data';\n",
              "          await google.colab.output.renderOutput(dataTable, element);\n",
              "          const docLink = document.createElement('div');\n",
              "          docLink.innerHTML = docLinkHtml;\n",
              "          element.appendChild(docLink);\n",
              "        }\n",
              "      </script>\n",
              "    </div>\n",
              "  </div>\n",
              "  "
            ]
          },
          "metadata": {},
          "execution_count": 4
        }
      ]
    },
    {
      "cell_type": "markdown",
      "source": [
        "**Lexical Feature Extraction:**"
      ],
      "metadata": {
        "id": "DPhv-5iqEwQT"
      }
    },
    {
      "cell_type": "code",
      "source": [
        "from urllib.parse import urlparse\n",
        "\n",
        "# Step 1: Components Extraction Algorithm\n",
        "def extract_components_from_url(url):\n",
        "    parser = urlparse(url)\n",
        "    segment = parser.scheme\n",
        "    netloc = parser.netloc\n",
        "    path = parser.path\n",
        "    query = parser.query\n",
        "    fragment = parser.fragment\n",
        "    return segment, netloc, path, query, fragment\n",
        "\n",
        "# Step 2: Features Extraction Algorithm\n",
        "def extract_features_from_components(segment_list, netloc_list, path_list, query_list, fragment_list):\n",
        "    features_list = []\n",
        "    num_features = len(segment_list)\n",
        "    for i in range(num_features):\n",
        "        segment = segment_list[i]\n",
        "        netloc = netloc_list[i]\n",
        "        path = path_list[i]\n",
        "        query = query_list[i]\n",
        "        fragment = fragment_list[i]\n",
        "\n",
        "        # Lexical feature extraction\n",
        "        segment_features = len(segment)\n",
        "        netloc_features = len(netloc)\n",
        "        path_features = len(path)\n",
        "        query_features = len(query)\n",
        "        fragment_features = len(fragment)\n",
        "\n",
        "        # Combine all features\n",
        "        features = [segment_features, netloc_features, path_features, query_features, fragment_features]\n",
        "        features_list.append(features)\n",
        "    return features_list"
      ],
      "metadata": {
        "id": "blZ7lXc8FLg3"
      },
      "execution_count": 5,
      "outputs": []
    },
    {
      "cell_type": "code",
      "source": [
        "# Components Extraction\n",
        "segment_list = []\n",
        "netloc_list = []\n",
        "path_list = []\n",
        "query_list = []\n",
        "fragment_list = []\n",
        "\n",
        "for url in df['URL']:\n",
        "    segment, netloc, path, query, fragment = extract_components_from_url(url)\n",
        "    segment_list.append(segment)\n",
        "    netloc_list.append(netloc)\n",
        "    path_list.append(path)\n",
        "    query_list.append(query)\n",
        "    fragment_list.append(fragment)\n",
        "\n",
        "# Features Extraction\n",
        "features_list = extract_features_from_components(segment_list, netloc_list, path_list, query_list, fragment_list)\n",
        "\n",
        "# Create a new DataFrame with the extracted features\n",
        "df_features = pd.DataFrame(features_list, columns=['Segment', 'Netloc', 'Path', 'Query', 'Fragment'])\n",
        "\n",
        "# Concatenate the original DataFrame and the extracted features DataFrame\n",
        "df_combined = pd.concat([df, df_features], axis=1)\n",
        "\n",
        "# Save the extracted features to a CSV file\n",
        "df_combined.to_csv('extracted_features.csv', index=False)\n",
        "\n",
        "# Display the updated DataFrame\n",
        "print(df_combined.head())"
      ],
      "metadata": {
        "colab": {
          "base_uri": "https://localhost:8080/"
        },
        "id": "LV5nw82TFw3Q",
        "outputId": "61e58386-f0ba-4a5d-9d9c-366d84e472bc"
      },
      "execution_count": 6,
      "outputs": [
        {
          "output_type": "stream",
          "name": "stdout",
          "text": [
            "  Category                                                URL  Label  Segment  \\\n",
            "0      HAM  https://urlscan.io/result/e6cb5bed-fa87-4317-b...      0        5   \n",
            "1      HAM  https://www.mercadopago.com.br/added on May 26...      0        5   \n",
            "2      HAM  https://onedrive.live.com/about/es-us-signin/a...      0        5   \n",
            "3      HAM  http://url.zp.edu.ua/added on May 26th 2023 5:...      0        4   \n",
            "4      HAM  https://bitflyer.com/en-us/added on May 26th 2...      0        5   \n",
            "\n",
            "   Netloc  Path  Query  Fragment  \n",
            "0      10    78      0         0  \n",
            "1      22    31      0         0  \n",
            "2      17    50      0         0  \n",
            "3      13    31      0         0  \n",
            "4      12    37      0         0  \n"
          ]
        }
      ]
    },
    {
      "cell_type": "markdown",
      "source": [
        "**ML Modelling:**"
      ],
      "metadata": {
        "id": "IrrMzWrLG9GF"
      }
    },
    {
      "cell_type": "code",
      "source": [
        "import threading\n",
        "import queue\n",
        "from sklearn.model_selection import train_test_split\n",
        "from sklearn.feature_extraction.text import CountVectorizer\n",
        "from sklearn.metrics import accuracy_score, precision_score, recall_score, f1_score\n",
        "from sklearn.ensemble import AdaBoostClassifier, GradientBoostingClassifier\n",
        "from sklearn.tree import DecisionTreeClassifier\n",
        "from sklearn.ensemble import BaggingClassifier, RandomForestClassifier\n",
        "from sklearn.neighbors import KNeighborsClassifier\n",
        "from sklearn.linear_model import LogisticRegression\n",
        "from sklearn.svm import SVC\n",
        "from sklearn.neural_network import MLPClassifier\n",
        "from sklearn.ensemble import ExtraTreesClassifier"
      ],
      "metadata": {
        "id": "00M1B0txGDZ7"
      },
      "execution_count": 7,
      "outputs": []
    },
    {
      "cell_type": "code",
      "source": [
        "def modelics(X_train, y_train, X_test, queue, model):\n",
        "    clf = model.fit(X_train, y_train)\n",
        "    prediction = clf.predict(X_test)\n",
        "    queue.put((model.__class__.__name__, prediction))\n",
        "\n",
        "def decision_maker(predictions):\n",
        "    counts = {}\n",
        "    for model_name, label in predictions:\n",
        "        label_tuple = tuple(label)\n",
        "        if label_tuple not in counts:\n",
        "            counts[label_tuple] = 0\n",
        "        counts[label_tuple] += 1\n",
        "\n",
        "    max_count = max(counts.values())\n",
        "    final_label = None\n",
        "    for label, count in counts.items():\n",
        "        if count == max_count:\n",
        "            if final_label is not None:\n",
        "                final_label = 'Tie'\n",
        "                break\n",
        "            final_label = np.array(label)\n",
        "\n",
        "    return final_label"
      ],
      "metadata": {
        "id": "JZpj6a6uNQtJ"
      },
      "execution_count": 8,
      "outputs": []
    },
    {
      "cell_type": "code",
      "source": [
        "# Load data from CSV\n",
        "data = pd.read_csv('extracted_features.csv')\n",
        "\n",
        "features_list = data[['Segment', 'Netloc', 'Path', 'Query', 'Fragment']]\n",
        "labels_list = data['Label']\n",
        "\n",
        "# Split dataset into training and testing\n",
        "X_train, X_test, y_train, y_test = train_test_split(features_list, labels_list, test_size=0.5)\n"
      ],
      "metadata": {
        "id": "uIyyyuuHexkL"
      },
      "execution_count": 9,
      "outputs": []
    },
    {
      "cell_type": "code",
      "source": [
        "# One-hot encode categorical features\n",
        "features_list_encoded = pd.get_dummies(features_list)\n",
        "\n",
        "models = [\n",
        "    AdaBoostClassifier(estimator=DecisionTreeClassifier(),\n",
        "                       n_estimators=50,\n",
        "                       learning_rate=1.0,\n",
        "                       algorithm='SAMME.R',\n",
        "                       random_state=0),\n",
        "\n",
        "    GradientBoostingClassifier(loss='log_loss',\n",
        "                               n_estimators=100,\n",
        "                               learning_rate=0.1,\n",
        "                               subsample=1.0,\n",
        "                               criterion='friedman_mse',\n",
        "                               min_samples_split=2,\n",
        "                               min_samples_leaf=1,\n",
        "                               min_weight_fraction_leaf=0.0,\n",
        "                               max_depth=3,\n",
        "                               min_impurity_decrease=0.0,\n",
        "                               init=None,\n",
        "                               random_state=0,\n",
        "                               max_features=None,\n",
        "                               verbose=0,\n",
        "                               max_leaf_nodes=None,\n",
        "                               warm_start=False,\n",
        "                               validation_fraction=0.1,\n",
        "                               n_iter_no_change=None,\n",
        "                               tol=0.0001),\n",
        "\n",
        "    DecisionTreeClassifier(criterion='gini',\n",
        "                           splitter='best',\n",
        "                           min_samples_split=2,\n",
        "                           min_samples_leaf=1,\n",
        "                           min_weight_fraction_leaf=0.0,\n",
        "                           max_features=None,\n",
        "                           random_state=0,\n",
        "                           max_leaf_nodes=None,\n",
        "                           min_impurity_decrease=0.0),\n",
        "\n",
        "    ExtraTreesClassifier(n_estimators=100,\n",
        "                         criterion='gini',\n",
        "                         min_samples_split=2,\n",
        "                         min_samples_leaf=1,\n",
        "                         min_weight_fraction_leaf=0.0,\n",
        "                         max_leaf_nodes=None,\n",
        "                         min_impurity_decrease=0.0,\n",
        "                         bootstrap=False,\n",
        "                         oob_score=False,\n",
        "                         random_state=0,\n",
        "                         verbose=0,\n",
        "                         warm_start=False,\n",
        "                         class_weight='balanced_subsample',\n",
        "                         ccp_alpha=0),\n",
        "\n",
        "    BaggingClassifier(estimator=DecisionTreeClassifier(),\n",
        "                      n_estimators=10,\n",
        "                      max_features=1.0,\n",
        "                      bootstrap=True,\n",
        "                      bootstrap_features=False,\n",
        "                      oob_score=False,\n",
        "                      warm_start=False,\n",
        "                      random_state=0,\n",
        "                      verbose=0),\n",
        "\n",
        "    RandomForestClassifier(n_estimators=100,\n",
        "                           criterion='gini',\n",
        "                           max_depth=None,\n",
        "                           min_samples_split=2,\n",
        "                           min_samples_leaf=1,\n",
        "                           min_weight_fraction_leaf=0.0,\n",
        "                           max_leaf_nodes=None,\n",
        "                           min_impurity_decrease=0.0,\n",
        "                           bootstrap=True,\n",
        "                           oob_score=False,\n",
        "                           random_state=0,\n",
        "                           verbose=0,\n",
        "                           warm_start=False,\n",
        "                           class_weight='balanced_subsample'),\n",
        "\n",
        "    KNeighborsClassifier(n_neighbors=5,\n",
        "                         weights='uniform',\n",
        "                         algorithm='auto',\n",
        "                         leaf_size=30,\n",
        "                         p=2,\n",
        "                         metric='minkowski',\n",
        "                         metric_params=None),\n",
        "\n",
        "    LogisticRegression(penalty='l2',\n",
        "                       dual=False,\n",
        "                       tol=0.0001,\n",
        "                       C=1.0,\n",
        "                       fit_intercept=True,\n",
        "                       intercept_scaling=1,\n",
        "                       class_weight='balanced',\n",
        "                       random_state=0,\n",
        "                       solver='saga',\n",
        "                       multi_class='ovr',\n",
        "                       verbose=0,\n",
        "                       warm_start=False,\n",
        "                       l1_ratio=None),\n",
        "\n",
        "    SVC(gamma='scale'),\n",
        "\n",
        "    MLPClassifier(alpha=1e-5,\n",
        "                  hidden_layer_sizes=(10, 10),\n",
        "                  random_state=1),\n",
        "]"
      ],
      "metadata": {
        "id": "klO9Av2J97vI"
      },
      "execution_count": 10,
      "outputs": []
    },
    {
      "cell_type": "code",
      "source": [
        "prediction_queue = queue.Queue()\n",
        "threads_list = []\n",
        "\n",
        "\n",
        "for model in models:\n",
        "    thread = threading.Thread(target=modelics, args=(features_list, labels_list, features_list, prediction_queue, model))\n",
        "    thread.start()\n",
        "    threads_list.append(thread)\n",
        "\n",
        "predictions = []\n",
        "\n",
        "for thread in threads_list:\n",
        "    thread.join()\n",
        "    predictions.append(prediction_queue.get())\n",
        "\n",
        "final_label = decision_maker(predictions)\n",
        "print(\"Final Label:\", final_label)"
      ],
      "metadata": {
        "colab": {
          "base_uri": "https://localhost:8080/"
        },
        "id": "7Qv33U9Xm5pZ",
        "outputId": "e10138d7-e8f0-4912-9a91-7e8de0c9b90f"
      },
      "execution_count": 11,
      "outputs": [
        {
          "output_type": "stream",
          "name": "stderr",
          "text": [
            "/usr/local/lib/python3.10/dist-packages/sklearn/linear_model/_sag.py:350: ConvergenceWarning: The max_iter was reached which means the coef_ did not converge\n",
            "  warnings.warn(\n"
          ]
        },
        {
          "output_type": "stream",
          "name": "stdout",
          "text": [
            "Final Label: [0 1 1 ... 1 1 1]\n"
          ]
        }
      ]
    },
    {
      "cell_type": "code",
      "source": [
        "from sklearn.metrics import confusion_matrix\n",
        "\n",
        "def calculate_evaluation_metrics(y_true, y_pred):\n",
        "    # Calculate confusion matrix\n",
        "    tn, fp, fn, tp = confusion_matrix(y_true, y_pred).ravel()\n",
        "\n",
        "    # Calculate evaluation metrics\n",
        "    sensitivity = tp / (tp + fn)\n",
        "    fall_out = fp / (fp + tn)\n",
        "    specificity = tn / (tn + fp)\n",
        "    accuracy = (tp + tn) / (tp + tn + fp + fn)\n",
        "    precision = tp / (tp + fp)\n",
        "    recall = sensitivity\n",
        "    f1_measure = 2 * (precision * recall) / (precision + recall)\n",
        "\n",
        "    return sensitivity, fall_out, specificity, accuracy, precision, recall, f1_measure\n"
      ],
      "metadata": {
        "id": "hkVW7imLDwVn"
      },
      "execution_count": 12,
      "outputs": []
    },
    {
      "cell_type": "code",
      "source": [
        "evaluation_results = []  # List to store the evaluation results for each model\n",
        "\n",
        "for model in models:\n",
        "    # Train the model\n",
        "    model.fit(X_train, y_train)\n",
        "\n",
        "    # Predict labels for the test dataset\n",
        "    y_pred = model.predict(X_test)\n",
        "\n",
        "    # Calculate evaluation metrics\n",
        "    sensitivity, fall_out, specificity, accuracy, precision, recall, f1_measure = calculate_evaluation_metrics(y_test, y_pred)\n",
        "\n",
        "    # Store the evaluation results\n",
        "    evaluation_results.append({\n",
        "        'Model': model.__class__.__name__,\n",
        "        'Sensitivity': sensitivity,\n",
        "        'Fall-Out': fall_out,\n",
        "        'Specificity': specificity,\n",
        "        'Accuracy': accuracy,\n",
        "        'Precision': precision,\n",
        "        'Recall': recall,\n",
        "        'F1-Measure': f1_measure\n",
        "    })\n",
        "\n",
        "# Print the evaluation results for each model\n",
        "for result in evaluation_results:\n",
        "    print(f\"Model: {result['Model']}\")\n",
        "    print(f\"Sensitivity: {result['Sensitivity']}\")\n",
        "    print(f\"Fall-Out: {result['Fall-Out']}\")\n",
        "    print(f\"Specificity: {result['Specificity']}\")\n",
        "    print(f\"Accuracy: {result['Accuracy']}\")\n",
        "    print(f\"Precision: {result['Precision']}\")\n",
        "    print(f\"Recall: {result['Recall']}\")\n",
        "    print(f\"F1-Measure: {result['F1-Measure']}\")\n",
        "    print(\"------------------------\")\n"
      ],
      "metadata": {
        "colab": {
          "base_uri": "https://localhost:8080/"
        },
        "id": "rx2S4qAod0Sk",
        "outputId": "ac307eb4-855e-4ae5-a6d8-21fb6fd4dd8e"
      },
      "execution_count": 13,
      "outputs": [
        {
          "output_type": "stream",
          "name": "stderr",
          "text": [
            "/usr/local/lib/python3.10/dist-packages/sklearn/linear_model/_sag.py:350: ConvergenceWarning: The max_iter was reached which means the coef_ did not converge\n",
            "  warnings.warn(\n"
          ]
        },
        {
          "output_type": "stream",
          "name": "stdout",
          "text": [
            "Model: AdaBoostClassifier\n",
            "Sensitivity: 0.8103616813294232\n",
            "Fall-Out: 0.1811668372569089\n",
            "Specificity: 0.8188331627430911\n",
            "Accuracy: 0.8145\n",
            "Precision: 0.8240556660039762\n",
            "Recall: 0.8103616813294232\n",
            "F1-Measure: 0.8171513060620996\n",
            "------------------------\n",
            "Model: GradientBoostingClassifier\n",
            "Sensitivity: 0.7732160312805474\n",
            "Fall-Out: 0.1668372569089048\n",
            "Specificity: 0.8331627430910952\n",
            "Accuracy: 0.8025\n",
            "Precision: 0.8291404612159329\n",
            "Recall: 0.7732160312805474\n",
            "F1-Measure: 0.8002023267577135\n",
            "------------------------\n",
            "Model: DecisionTreeClassifier\n",
            "Sensitivity: 0.8005865102639296\n",
            "Fall-Out: 0.1811668372569089\n",
            "Specificity: 0.8188331627430911\n",
            "Accuracy: 0.8095\n",
            "Precision: 0.822289156626506\n",
            "Recall: 0.8005865102639296\n",
            "F1-Measure: 0.8112927191679049\n",
            "------------------------\n",
            "Model: ExtraTreesClassifier\n",
            "Sensitivity: 0.8191593352883676\n",
            "Fall-Out: 0.1862845445240532\n",
            "Specificity: 0.8137154554759468\n",
            "Accuracy: 0.8165\n",
            "Precision: 0.8215686274509804\n",
            "Recall: 0.8191593352883676\n",
            "F1-Measure: 0.8203622124326971\n",
            "------------------------\n",
            "Model: BaggingClassifier\n",
            "Sensitivity: 0.7966764418377321\n",
            "Fall-Out: 0.18321392016376664\n",
            "Specificity: 0.8167860798362334\n",
            "Accuracy: 0.8065\n",
            "Precision: 0.8199195171026157\n",
            "Recall: 0.7966764418377321\n",
            "F1-Measure: 0.8081308874566187\n",
            "------------------------\n",
            "Model: RandomForestClassifier\n",
            "Sensitivity: 0.8162267839687195\n",
            "Fall-Out: 0.1842374616171955\n",
            "Specificity: 0.8157625383828045\n",
            "Accuracy: 0.816\n",
            "Precision: 0.8226600985221675\n",
            "Recall: 0.8162267839687195\n",
            "F1-Measure: 0.8194308145240433\n",
            "------------------------\n",
            "Model: KNeighborsClassifier\n",
            "Sensitivity: 0.7986314760508308\n",
            "Fall-Out: 0.19959058341862845\n",
            "Specificity: 0.8004094165813715\n",
            "Accuracy: 0.7995\n",
            "Precision: 0.8073122529644269\n",
            "Recall: 0.7986314760508308\n",
            "F1-Measure: 0.802948402948403\n",
            "------------------------\n",
            "Model: LogisticRegression\n",
            "Sensitivity: 0.6500488758553274\n",
            "Fall-Out: 0.26202661207778916\n",
            "Specificity: 0.7379733879222109\n",
            "Accuracy: 0.693\n",
            "Precision: 0.7220412595005429\n",
            "Recall: 0.6500488758553274\n",
            "F1-Measure: 0.684156378600823\n",
            "------------------------\n",
            "Model: SVC\n",
            "Sensitivity: 0.6265884652981427\n",
            "Fall-Out: 0.14124872057318322\n",
            "Specificity: 0.8587512794268168\n",
            "Accuracy: 0.74\n",
            "Precision: 0.8228498074454429\n",
            "Recall: 0.6265884652981427\n",
            "F1-Measure: 0.711431742508324\n",
            "------------------------\n",
            "Model: MLPClassifier\n",
            "Sensitivity: 0.6041055718475073\n",
            "Fall-Out: 0.15250767656090072\n",
            "Specificity: 0.8474923234390993\n",
            "Accuracy: 0.723\n",
            "Precision: 0.8057366362451108\n",
            "Recall: 0.6041055718475073\n",
            "F1-Measure: 0.6905027932960894\n",
            "------------------------\n"
          ]
        }
      ]
    },
    {
      "cell_type": "code",
      "source": [
        "from sklearn.metrics import classification_report\n",
        "for model in models:\n",
        "    model.fit(X_train, y_train)  # Train the model\n",
        "    y_pred = model.predict(X_test)  # Predict labels\n",
        "\n",
        "    # Calculate evaluation metrics\n",
        "    report = classification_report(y_test, y_pred)\n",
        "\n",
        "    # Print evaluation report\n",
        "    print(f\"Model: {model.__class__.__name__}\")\n",
        "    print(report)\n",
        "    print(\"------------------------\")"
      ],
      "metadata": {
        "colab": {
          "base_uri": "https://localhost:8080/"
        },
        "id": "9t739DzHnXDJ",
        "outputId": "e8c16792-393b-4b74-d57b-380378b38bf3"
      },
      "execution_count": 14,
      "outputs": [
        {
          "output_type": "stream",
          "name": "stdout",
          "text": [
            "Model: AdaBoostClassifier\n",
            "              precision    recall  f1-score   support\n",
            "\n",
            "           0       0.80      0.82      0.81       977\n",
            "           1       0.82      0.81      0.82      1023\n",
            "\n",
            "    accuracy                           0.81      2000\n",
            "   macro avg       0.81      0.81      0.81      2000\n",
            "weighted avg       0.81      0.81      0.81      2000\n",
            "\n",
            "------------------------\n",
            "Model: GradientBoostingClassifier\n",
            "              precision    recall  f1-score   support\n",
            "\n",
            "           0       0.78      0.83      0.80       977\n",
            "           1       0.83      0.77      0.80      1023\n",
            "\n",
            "    accuracy                           0.80      2000\n",
            "   macro avg       0.80      0.80      0.80      2000\n",
            "weighted avg       0.80      0.80      0.80      2000\n",
            "\n",
            "------------------------\n",
            "Model: DecisionTreeClassifier\n",
            "              precision    recall  f1-score   support\n",
            "\n",
            "           0       0.80      0.82      0.81       977\n",
            "           1       0.82      0.80      0.81      1023\n",
            "\n",
            "    accuracy                           0.81      2000\n",
            "   macro avg       0.81      0.81      0.81      2000\n",
            "weighted avg       0.81      0.81      0.81      2000\n",
            "\n",
            "------------------------\n",
            "Model: ExtraTreesClassifier\n",
            "              precision    recall  f1-score   support\n",
            "\n",
            "           0       0.81      0.81      0.81       977\n",
            "           1       0.82      0.82      0.82      1023\n",
            "\n",
            "    accuracy                           0.82      2000\n",
            "   macro avg       0.82      0.82      0.82      2000\n",
            "weighted avg       0.82      0.82      0.82      2000\n",
            "\n",
            "------------------------\n",
            "Model: BaggingClassifier\n",
            "              precision    recall  f1-score   support\n",
            "\n",
            "           0       0.79      0.82      0.80       977\n",
            "           1       0.82      0.80      0.81      1023\n",
            "\n",
            "    accuracy                           0.81      2000\n",
            "   macro avg       0.81      0.81      0.81      2000\n",
            "weighted avg       0.81      0.81      0.81      2000\n",
            "\n",
            "------------------------\n",
            "Model: RandomForestClassifier\n",
            "              precision    recall  f1-score   support\n",
            "\n",
            "           0       0.81      0.82      0.81       977\n",
            "           1       0.82      0.82      0.82      1023\n",
            "\n",
            "    accuracy                           0.82      2000\n",
            "   macro avg       0.82      0.82      0.82      2000\n",
            "weighted avg       0.82      0.82      0.82      2000\n",
            "\n",
            "------------------------\n",
            "Model: KNeighborsClassifier\n",
            "              precision    recall  f1-score   support\n",
            "\n",
            "           0       0.79      0.80      0.80       977\n",
            "           1       0.81      0.80      0.80      1023\n",
            "\n",
            "    accuracy                           0.80      2000\n",
            "   macro avg       0.80      0.80      0.80      2000\n",
            "weighted avg       0.80      0.80      0.80      2000\n",
            "\n",
            "------------------------\n",
            "Model: LogisticRegression\n",
            "              precision    recall  f1-score   support\n",
            "\n",
            "           0       0.67      0.74      0.70       977\n",
            "           1       0.72      0.65      0.68      1023\n",
            "\n",
            "    accuracy                           0.69      2000\n",
            "   macro avg       0.70      0.69      0.69      2000\n",
            "weighted avg       0.70      0.69      0.69      2000\n",
            "\n",
            "------------------------\n"
          ]
        },
        {
          "output_type": "stream",
          "name": "stderr",
          "text": [
            "/usr/local/lib/python3.10/dist-packages/sklearn/linear_model/_sag.py:350: ConvergenceWarning: The max_iter was reached which means the coef_ did not converge\n",
            "  warnings.warn(\n"
          ]
        },
        {
          "output_type": "stream",
          "name": "stdout",
          "text": [
            "Model: SVC\n",
            "              precision    recall  f1-score   support\n",
            "\n",
            "           0       0.69      0.86      0.76       977\n",
            "           1       0.82      0.63      0.71      1023\n",
            "\n",
            "    accuracy                           0.74      2000\n",
            "   macro avg       0.75      0.74      0.74      2000\n",
            "weighted avg       0.76      0.74      0.74      2000\n",
            "\n",
            "------------------------\n",
            "Model: MLPClassifier\n",
            "              precision    recall  f1-score   support\n",
            "\n",
            "           0       0.67      0.85      0.75       977\n",
            "           1       0.81      0.60      0.69      1023\n",
            "\n",
            "    accuracy                           0.72      2000\n",
            "   macro avg       0.74      0.73      0.72      2000\n",
            "weighted avg       0.74      0.72      0.72      2000\n",
            "\n",
            "------------------------\n"
          ]
        }
      ]
    },
    {
      "cell_type": "markdown",
      "source": [
        "**Plot:**"
      ],
      "metadata": {
        "id": "CSjpFAVUGDUw"
      }
    },
    {
      "cell_type": "code",
      "source": [
        "# Extract the performance metrics (precision, recall, and F1 score) for each model from the evaluation results:\n",
        "precision = [result['Precision'] for result in evaluation_results]\n",
        "recall = [result['Recall'] for result in evaluation_results]\n",
        "f1_score = [result['F1-Measure'] for result in evaluation_results]\n",
        "\n",
        "# Set the model names for the x-axis:\n",
        "model_names = [result['Model'] for result in evaluation_results]\n",
        "\n",
        "# Set the width of the bars:\n",
        "bar_width = 0.2\n",
        "\n",
        "# Set the positions of the bars on the x-axis:\n",
        "index = np.arange(len(model_names))\n",
        "\n",
        "# Plot the performance metrics using a bar chart or a line plot:\n",
        "\n",
        "plt.figure(figsize=(10, 6))\n",
        "plt.bar(index, precision, width=bar_width, label='Precision')\n",
        "plt.bar(index + bar_width, recall, width=bar_width, label='Recall')\n",
        "plt.bar(index + 2 * bar_width, f1_score, width=bar_width, label='F1 Score')\n",
        "\n",
        "# Add labels and title\n",
        "plt.xlabel('Models')\n",
        "plt.ylabel('Score')\n",
        "plt.title('Performance Metrics of Machine Learning Models')\n",
        "plt.xticks(index + bar_width, model_names, rotation=45)\n",
        "plt.legend()\n",
        "\n",
        "# Show the plot\n",
        "plt.show()\n"
      ],
      "metadata": {
        "colab": {
          "base_uri": "https://localhost:8080/",
          "height": 691
        },
        "id": "dpTJszwRGC4Z",
        "outputId": "c8a6366e-f6f8-4b89-de5d-9ce9d723cbcd"
      },
      "execution_count": 15,
      "outputs": [
        {
          "output_type": "display_data",
          "data": {
            "text/plain": [
              "<Figure size 1000x600 with 1 Axes>"
            ],
            "image/png": "[encoded data removed]"
          },
          "metadata": {}
        }
      ]
    },
    {
      "cell_type": "code",
      "source": [
        "# Extract the accuracies for each model from the evaluation results:\n",
        "accuracy = [result['Accuracy'] for result in evaluation_results]\n",
        "\n",
        "# Define the pastel color for accuracy\n",
        "pastel_color = (0.7, 0.7, 0.9)  # RGB values for a pastel color\n",
        "\n",
        "# Plot Accuracy\n",
        "plt.figure(figsize=(8, 4))\n",
        "plt.bar(index, accuracy, width=0.5, color=pastel_color)\n",
        "plt.xlabel('Models')\n",
        "plt.ylabel('Accuracy')\n",
        "plt.title('Accuracy of Machine Learning Models')\n",
        "plt.xticks(index, model_names, rotation=45)\n",
        "plt.show()"
      ],
      "metadata": {
        "colab": {
          "base_uri": "https://localhost:8080/",
          "height": 537
        },
        "id": "H2RqaFf2Jh7V",
        "outputId": "66ee3978-4542-4ddc-bf7b-d74c19bef776"
      },
      "execution_count": 16,
      "outputs": [
        {
          "output_type": "display_data",
          "data": {
            "text/plain": [
              "<Figure size 800x400 with 1 Axes>"
            ],
            "image/png": "[encoded data removed]"
          },
          "metadata": {}
        }
      ]
    }
  ]
}