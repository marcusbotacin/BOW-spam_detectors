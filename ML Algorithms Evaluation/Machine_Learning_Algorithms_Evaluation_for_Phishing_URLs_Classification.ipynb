{
  "nbformat": 4,
  "nbformat_minor": 0,
  "metadata": {
    "colab": {
      "provenance": []
    },
    "kernelspec": {
      "name": "python3",
      "display_name": "Python 3"
    },
    "language_info": {
      "name": "python"
    }
  },
  "cells": [
    {
      "cell_type": "code",
      "execution_count": 54,
      "metadata": {
        "id": "MQDu4BN9MTik"
      },
      "outputs": [],
      "source": [
        "import numpy as np\n",
        "import pandas as pd"
      ]
    },
    {
      "cell_type": "code",
      "source": [
        "# Read the CSV files as DataFrames\n",
        "df1 = pd.read_csv('benign_urls.csv')\n",
        "df2 = pd.read_csv('valid_phish_urls.csv')\n",
        "\n",
        "# Merge the DataFrames\n",
        "df = pd.concat([df1, df2], ignore_index=True)\n",
        "\n",
        "# Save the merged DataFrame as a new CSV file\n",
        "df.to_csv('merged_urls.csv', index=False)"
      ],
      "metadata": {
        "id": "BpbvUK0Tdijz"
      },
      "execution_count": 31,
      "outputs": []
    },
    {
      "cell_type": "code",
      "source": [
        "df.head(-5)"
      ],
      "metadata": {
        "colab": {
          "base_uri": "https://localhost:8080/",
          "height": 423
        },
        "id": "wBt66RWEfvvn",
        "outputId": "efd35d5b-5948-46b3-f000-5cf24c081fbc"
      },
      "execution_count": 33,
      "outputs": [
        {
          "output_type": "execute_result",
          "data": {
            "text/plain": [
              "    Category                                                URL\n",
              "0        HAM  https://urlscan.io/result/e6cb5bed-fa87-4317-b...\n",
              "1        HAM  https://www.mercadopago.com.br/added on May 26...\n",
              "2        HAM  https://onedrive.live.com/about/es-us-signin/a...\n",
              "3        HAM  http://url.zp.edu.ua/added on May 26th 2023 5:...\n",
              "4        HAM  https://bitflyer.com/en-us/added on May 26th 2...\n",
              "..       ...                                                ...\n",
              "390     SPAM  https://cf-ipfs.com/ipfs/QmW8WdEtMU9je3H7BYL5L...\n",
              "391     SPAM  https://bafybeidtyfrjzjnxzkv4bykjyj7sxpakv2rfo...\n",
              "392     SPAM  https://ipfs.io/ipfs/QmW8WdEtMU9je3H7BYL5L1gqV...\n",
              "393     SPAM  https://ipfs.eth.aragon.network/ipfs/bafybeidt...\n",
              "394     SPAM  https://cloudflare-ipfs.com/ipfs/bafybeidtyfrj...\n",
              "\n",
              "[395 rows x 2 columns]"
            ],
            "text/html": [
              "\n",
              "  <div id=\"df-457c0200-642f-4284-985b-b6c1f28133c2\">\n",
              "    <div class=\"colab-df-container\">\n",
              "      <div>\n",
              "<style scoped>\n",
              "    .dataframe tbody tr th:only-of-type {\n",
              "        vertical-align: middle;\n",
              "    }\n",
              "\n",
              "    .dataframe tbody tr th {\n",
              "        vertical-align: top;\n",
              "    }\n",
              "\n",
              "    .dataframe thead th {\n",
              "        text-align: right;\n",
              "    }\n",
              "</style>\n",
              "<table border=\"1\" class=\"dataframe\">\n",
              "  <thead>\n",
              "    <tr style=\"text-align: right;\">\n",
              "      <th></th>\n",
              "      <th>Category</th>\n",
              "      <th>URL</th>\n",
              "    </tr>\n",
              "  </thead>\n",
              "  <tbody>\n",
              "    <tr>\n",
              "      <th>0</th>\n",
              "      <td>HAM</td>\n",
              "      <td>https://urlscan.io/result/e6cb5bed-fa87-4317-b...</td>\n",
              "    </tr>\n",
              "    <tr>\n",
              "      <th>1</th>\n",
              "      <td>HAM</td>\n",
              "      <td>https://www.mercadopago.com.br/added on May 26...</td>\n",
              "    </tr>\n",
              "    <tr>\n",
              "      <th>2</th>\n",
              "      <td>HAM</td>\n",
              "      <td>https://onedrive.live.com/about/es-us-signin/a...</td>\n",
              "    </tr>\n",
              "    <tr>\n",
              "      <th>3</th>\n",
              "      <td>HAM</td>\n",
              "      <td>http://url.zp.edu.ua/added on May 26th 2023 5:...</td>\n",
              "    </tr>\n",
              "    <tr>\n",
              "      <th>4</th>\n",
              "      <td>HAM</td>\n",
              "      <td>https://bitflyer.com/en-us/added on May 26th 2...</td>\n",
              "    </tr>\n",
              "    <tr>\n",
              "      <th>...</th>\n",
              "      <td>...</td>\n",
              "      <td>...</td>\n",
              "    </tr>\n",
              "    <tr>\n",
              "      <th>390</th>\n",
              "      <td>SPAM</td>\n",
              "      <td>https://cf-ipfs.com/ipfs/QmW8WdEtMU9je3H7BYL5L...</td>\n",
              "    </tr>\n",
              "    <tr>\n",
              "      <th>391</th>\n",
              "      <td>SPAM</td>\n",
              "      <td>https://bafybeidtyfrjzjnxzkv4bykjyj7sxpakv2rfo...</td>\n",
              "    </tr>\n",
              "    <tr>\n",
              "      <th>392</th>\n",
              "      <td>SPAM</td>\n",
              "      <td>https://ipfs.io/ipfs/QmW8WdEtMU9je3H7BYL5L1gqV...</td>\n",
              "    </tr>\n",
              "    <tr>\n",
              "      <th>393</th>\n",
              "      <td>SPAM</td>\n",
              "      <td>https://ipfs.eth.aragon.network/ipfs/bafybeidt...</td>\n",
              "    </tr>\n",
              "    <tr>\n",
              "      <th>394</th>\n",
              "      <td>SPAM</td>\n",
              "      <td>https://cloudflare-ipfs.com/ipfs/bafybeidtyfrj...</td>\n",
              "    </tr>\n",
              "  </tbody>\n",
              "</table>\n",
              "<p>395 rows × 2 columns</p>\n",
              "</div>\n",
              "      <button class=\"colab-df-convert\" onclick=\"convertToInteractive('df-457c0200-642f-4284-985b-b6c1f28133c2')\"\n",
              "              title=\"Convert this dataframe to an interactive table.\"\n",
              "              style=\"display:none;\">\n",
              "        \n",
              "  <svg xmlns=\"http://www.w3.org/2000/svg\" height=\"24px\"viewBox=\"0 0 24 24\"\n",
              "       width=\"24px\">\n",
              "    <path d=\"M0 0h24v24H0V0z\" fill=\"none\"/>\n",
              "    <path d=\"M18.56 5.44l.94 2.06.94-2.06 2.06-.94-2.06-.94-.94-2.06-.94 2.06-2.06.94zm-11 1L8.5 8.5l.94-2.06 2.06-.94-2.06-.94L8.5 2.5l-.94 2.06-2.06.94zm10 10l.94 2.06.94-2.06 2.06-.94-2.06-.94-.94-2.06-.94 2.06-2.06.94z\"/><path d=\"M17.41 7.96l-1.37-1.37c-.4-.4-.92-.59-1.43-.59-.52 0-1.04.2-1.43.59L10.3 9.45l-7.72 7.72c-.78.78-.78 2.05 0 2.83L4 21.41c.39.39.9.59 1.41.59.51 0 1.02-.2 1.41-.59l7.78-7.78 2.81-2.81c.8-.78.8-2.07 0-2.86zM5.41 20L4 18.59l7.72-7.72 1.47 1.35L5.41 20z\"/>\n",
              "  </svg>\n",
              "      </button>\n",
              "      \n",
              "  <style>\n",
              "    .colab-df-container {\n",
              "      display:flex;\n",
              "      flex-wrap:wrap;\n",
              "      gap: 12px;\n",
              "    }\n",
              "\n",
              "    .colab-df-convert {\n",
              "      background-color: #E8F0FE;\n",
              "      border: none;\n",
              "      border-radius: 50%;\n",
              "      cursor: pointer;\n",
              "      display: none;\n",
              "      fill: #1967D2;\n",
              "      height: 32px;\n",
              "      padding: 0 0 0 0;\n",
              "      width: 32px;\n",
              "    }\n",
              "\n",
              "    .colab-df-convert:hover {\n",
              "      background-color: #E2EBFA;\n",
              "      box-shadow: 0px 1px 2px rgba(60, 64, 67, 0.3), 0px 1px 3px 1px rgba(60, 64, 67, 0.15);\n",
              "      fill: #174EA6;\n",
              "    }\n",
              "\n",
              "    [theme=dark] .colab-df-convert {\n",
              "      background-color: #3B4455;\n",
              "      fill: #D2E3FC;\n",
              "    }\n",
              "\n",
              "    [theme=dark] .colab-df-convert:hover {\n",
              "      background-color: #434B5C;\n",
              "      box-shadow: 0px 1px 3px 1px rgba(0, 0, 0, 0.15);\n",
              "      filter: drop-shadow(0px 1px 2px rgba(0, 0, 0, 0.3));\n",
              "      fill: #FFFFFF;\n",
              "    }\n",
              "  </style>\n",
              "\n",
              "      <script>\n",
              "        const buttonEl =\n",
              "          document.querySelector('#df-457c0200-642f-4284-985b-b6c1f28133c2 button.colab-df-convert');\n",
              "        buttonEl.style.display =\n",
              "          google.colab.kernel.accessAllowed ? 'block' : 'none';\n",
              "\n",
              "        async function convertToInteractive(key) {\n",
              "          const element = document.querySelector('#df-457c0200-642f-4284-985b-b6c1f28133c2');\n",
              "          const dataTable =\n",
              "            await google.colab.kernel.invokeFunction('convertToInteractive',\n",
              "                                                     [key], {});\n",
              "          if (!dataTable) return;\n",
              "\n",
              "          const docLinkHtml = 'Like what you see? Visit the ' +\n",
              "            '<a target=\"_blank\" href=https://colab.research.google.com/notebooks/data_table.ipynb>data table notebook</a>'\n",
              "            + ' to learn more about interactive tables.';\n",
              "          element.innerHTML = '';\n",
              "          dataTable['output_type'] = 'display_data';\n",
              "          await google.colab.output.renderOutput(dataTable, element);\n",
              "          const docLink = document.createElement('div');\n",
              "          docLink.innerHTML = docLinkHtml;\n",
              "          element.appendChild(docLink);\n",
              "        }\n",
              "      </script>\n",
              "    </div>\n",
              "  </div>\n",
              "  "
            ]
          },
          "metadata": {},
          "execution_count": 33
        }
      ]
    },
    {
      "cell_type": "code",
      "source": [
        "df.shape"
      ],
      "metadata": {
        "colab": {
          "base_uri": "https://localhost:8080/"
        },
        "id": "tL6A3xErf3Lp",
        "outputId": "21a68653-d2a9-43f4-e207-b6d51d09b0db"
      },
      "execution_count": 34,
      "outputs": [
        {
          "output_type": "execute_result",
          "data": {
            "text/plain": [
              "(400, 2)"
            ]
          },
          "metadata": {},
          "execution_count": 34
        }
      ]
    },
    {
      "cell_type": "code",
      "source": [
        "# Create a new column \"Label\" based on the \"Category\" column\n",
        "df['Label'] = df['Category'].apply(lambda x: 1 if x == 'SPAM' else 0)\n",
        "\n",
        "# Save the updated DataFrame as a new CSV file\n",
        "df.to_csv('merged_urls_with_label.csv', index=False)\n",
        "\n",
        "print('Merged data with labels saved to merged_urls_with_label.csv')"
      ],
      "metadata": {
        "colab": {
          "base_uri": "https://localhost:8080/"
        },
        "id": "zlYHoGWagSOl",
        "outputId": "2c87f53b-eaf4-40cc-e718-096a9d0020b4"
      },
      "execution_count": 36,
      "outputs": [
        {
          "output_type": "stream",
          "name": "stdout",
          "text": [
            "Merged data with labels saved to merged_urls_with_label.csv\n"
          ]
        }
      ]
    },
    {
      "cell_type": "markdown",
      "source": [
        "**Lexical Analysis**"
      ],
      "metadata": {
        "id": "Ayp8MbGbinPd"
      }
    },
    {
      "cell_type": "code",
      "source": [
        "import re\n",
        "\n",
        "def dot_count(url):\n",
        "    return url.count('.')\n",
        "\n",
        "def url_len(url):\n",
        "    return len(url)\n",
        "\n",
        "def digit_count(url):\n",
        "    return sum(1 for char in url if char.isdigit())\n",
        "\n",
        "def protocol(url):\n",
        "    return 1 if re.match('^https://', url) else 0\n",
        "\n",
        "def hypen_count(url):\n",
        "    return url.count('-')\n",
        "\n",
        "def double_slash_count(url):\n",
        "    return url.count('//')\n",
        "\n",
        "def single_slash_count(url):\n",
        "    return url.count('/')\n",
        "\n",
        "def special_characters_count(url):\n",
        "    special_chars = r':;#!%~+_?=&,\\[\\]'\n",
        "    return sum(1 for char in url if char in special_chars)\n",
        "\n",
        "def at_sign_count(url):\n",
        "    return url.count('@')\n",
        "\n",
        "# Apply the feature extraction functions to the URLs\n",
        "df['Label'] = (df['Category'] == 'SPAM').astype(int)\n",
        "df['HTTP_Protocol'] = df['URL'].apply(protocol)\n",
        "df['Dot_count'] = df['URL'].apply(dot_count)\n",
        "df['url_len'] = df['URL'].apply(url_len)\n",
        "df['Digit_count'] = df['URL'].apply(digit_count)\n",
        "df['Hypen_count'] = df['URL'].apply(hypen_count)\n",
        "df['Double_slash_count'] = df['URL'].apply(double_slash_count)\n",
        "df['Single_slash_count'] = df['URL'].apply(single_slash_count)\n",
        "df['Special_characters_count'] = df['URL'].apply(special_characters_count)\n",
        "df['At_sign_count'] = df['URL'].apply(at_sign_count)\n"
      ],
      "metadata": {
        "id": "tYX-ZEDAPDfs"
      },
      "execution_count": 45,
      "outputs": []
    },
    {
      "cell_type": "code",
      "source": [
        "# Extract the URL lexical analysis results\n",
        "lexical_analysis_results = df[['Label', 'URL', 'HTTP_Protocol', 'Dot_count', 'url_len', 'Digit_count',\n",
        "                                'Hypen_count', 'Double_slash_count', 'Single_slash_count',\n",
        "                                'Special_characters_count', 'At_sign_count']]\n",
        "\n",
        "# Print the first few rows of the lexical analysis results\n",
        "print(lexical_analysis_results.head())\n",
        "\n",
        "# Save the lexical analysis results to a CSV file\n",
        "lexical_analysis_results.to_csv('lexical_analysis_results.csv', index=False)"
      ],
      "metadata": {
        "colab": {
          "base_uri": "https://localhost:8080/"
        },
        "id": "SkieQgdJRvoJ",
        "outputId": "e7aa0a72-ab5d-48e8-d797-a6d7ff4ef0c9"
      },
      "execution_count": 46,
      "outputs": [
        {
          "output_type": "stream",
          "name": "stdout",
          "text": [
            "   Label                                                URL  HTTP_Protocol  \\\n",
            "0      0  https://urlscan.io/result/e6cb5bed-fa87-4317-b...              1   \n",
            "1      0  https://www.mercadopago.com.br/added on May 26...              1   \n",
            "2      0  https://onedrive.live.com/about/es-us-signin/a...              1   \n",
            "3      0  http://url.zp.edu.ua/added on May 26th 2023 5:...              0   \n",
            "4      0  https://bitflyer.com/en-us/added on May 26th 2...              1   \n",
            "\n",
            "   Dot_count  url_len  Digit_count  Hypen_count  Double_slash_count  \\\n",
            "0          4       96           26            4                   1   \n",
            "1          3       61            9            0                   1   \n",
            "2          2       75            9            2                   1   \n",
            "3          3       51            9            0                   1   \n",
            "4          1       57            9            1                   1   \n",
            "\n",
            "   Single_slash_count  Special_characters_count  At_sign_count  \n",
            "0                   5                         2              0  \n",
            "1                   3                         2              0  \n",
            "2                   5                         2              0  \n",
            "3                   3                         2              0  \n",
            "4                   4                         2              0  \n"
          ]
        }
      ]
    },
    {
      "cell_type": "markdown",
      "source": [
        "**Data Preprocessing**"
      ],
      "metadata": {
        "id": "xmedJ4Exi4je"
      }
    },
    {
      "cell_type": "code",
      "source": [
        "from sklearn.preprocessing import MinMaxScaler"
      ],
      "metadata": {
        "id": "xiMRfXLujAsY"
      },
      "execution_count": 47,
      "outputs": []
    },
    {
      "cell_type": "code",
      "source": [
        "#Create an instance of the MinMaxScaler:\n",
        "scaler = MinMaxScaler()\n",
        "\n",
        "#Define the columns that need to be scaled:\n",
        "columns_to_scale = ['URL_length', 'Dot_count', 'Digit_count', 'HTTP_Protocol', 'Hypen_count', 'Double_slash_count', 'Single_slash_count', 'Special_characters_count', 'At_sign_count']\n",
        "\n",
        "#Apply scaling on the selected columns:\n",
        "df[columns_to_scale] = scaler.fit_transform(df[columns_to_scale])"
      ],
      "metadata": {
        "id": "d-qYxSK2jGDc"
      },
      "execution_count": 51,
      "outputs": []
    },
    {
      "cell_type": "markdown",
      "source": [
        "**Cross Validation**"
      ],
      "metadata": {
        "id": "Kb6JvLU7jt5Z"
      }
    },
    {
      "cell_type": "code",
      "source": [
        "from sklearn.model_selection import RepeatedStratifiedKFold"
      ],
      "metadata": {
        "id": "m234KJ_CjxtJ"
      },
      "execution_count": 52,
      "outputs": []
    },
    {
      "cell_type": "code",
      "source": [
        "#Define the number of folds and repetitions:\n",
        "n_splits = 5  # Number of folds\n",
        "n_repeats = 3  # Number of repetitions\n",
        "\n",
        "#Create an instance of RepeatedStratifiedKFold:\n",
        "rskf = RepeatedStratifiedKFold(n_splits=n_splits, n_repeats=n_repeats, random_state=42)\n",
        "\n",
        "#Split your data into training and testing sets using the cross-validation:\n",
        "X = df[['URL_length', 'Dot_count', 'Digit_count', 'HTTP_Protocol', 'Hypen_count', 'Double_slash_count', 'Single_slash_count', 'Special_characters_count', 'At_sign_count']]\n",
        "y = df['Label']\n",
        "\n",
        "for train_index, test_index in rskf.split(X, y):\n",
        "    X_train, X_test = X.iloc[train_index], X.iloc[test_index]\n",
        "    y_train, y_test = y.iloc[train_index], y.iloc[test_index]\n",
        "\n",
        "    # Perform training and testing on each fold\n",
        "    # Train your model on X_train and y_train\n",
        "    # Test your model on X_test and y_test\n",
        "    # Evaluate the performance of your model\n",
        "\n"
      ],
      "metadata": {
        "id": "caGrPZlbj54f"
      },
      "execution_count": 53,
      "outputs": []
    },
    {
      "cell_type": "markdown",
      "source": [
        "**Machine Learning predictions**"
      ],
      "metadata": {
        "id": "zfeHvP9dkXLy"
      }
    },
    {
      "cell_type": "code",
      "source": [
        "from sklearn.metrics import accuracy_score\n",
        "from sklearn.tree import DecisionTreeClassifier\n",
        "from sklearn.neighbors import KNeighborsClassifier\n",
        "from sklearn.ensemble import GradientBoostingClassifier, RandomForestClassifier, BaggingClassifier, AdaBoostClassifier\n",
        "from sklearn.linear_model import LogisticRegression\n",
        "from sklearn.naive_bayes import GaussianNB\n",
        "from sklearn.svm import SVC\n",
        "from sklearn.neural_network import MLPClassifier\n",
        "from sklearn.ensemble import ExtraTreesClassifier\n"
      ],
      "metadata": {
        "id": "ak76U7e9kznb"
      },
      "execution_count": 55,
      "outputs": []
    },
    {
      "cell_type": "code",
      "source": [
        "#Define the ML algorithms and their corresponding classes:\n",
        "\n",
        "classifiers = [\n",
        "    ('Decision Tree', DecisionTreeClassifier()),\n",
        "    ('K-Nearest Neighbors', KNeighborsClassifier(n_neighbors=5)),\n",
        "    ('Gradient Boosting', GradientBoostingClassifier(random_state=0)),\n",
        "    ('Logistic Regression', LogisticRegression(random_state=0)),\n",
        "    ('Naive Bayes', GaussianNB()),\n",
        "    ('Random Forest', RandomForestClassifier(max_depth=2, random_state=0)),\n",
        "    ('Support Vector Machine', SVC(kernel='linear', random_state=0)),\n",
        "    ('Neural Network', MLPClassifier(alpha=1, random_state=0, max_iter=1000)),\n",
        "    ('Extra Trees', ExtraTreesClassifier(n_estimators=100, random_state=0)),\n",
        "    ('AdaBoost', AdaBoostClassifier(n_estimators=100, random_state=0)),\n",
        "    ('Bagging', BaggingClassifier(base_estimator=SVC(), n_estimators=10, random_state=0))\n",
        "]\n"
      ],
      "metadata": {
        "id": "uT69FKWJk2vp"
      },
      "execution_count": 56,
      "outputs": []
    },
    {
      "cell_type": "code",
      "source": [
        "#Iterate over the classifiers and perform the evaluation:\n",
        "\n",
        "for name, classifier in classifiers:\n",
        "    classifier.fit(X_train, y_train)\n",
        "    y_pred = classifier.predict(X_test)\n",
        "    accuracy = accuracy_score(y_test, y_pred)\n",
        "    print(f\"{name} Accuracy: {accuracy}\")\n"
      ],
      "metadata": {
        "colab": {
          "base_uri": "https://localhost:8080/"
        },
        "id": "oeT-FLquk8EC",
        "outputId": "57514738-9606-466e-d2f5-ba7263df9fab"
      },
      "execution_count": 57,
      "outputs": [
        {
          "output_type": "stream",
          "name": "stdout",
          "text": [
            "Decision Tree Accuracy: 0.95\n",
            "K-Nearest Neighbors Accuracy: 0.95\n",
            "Gradient Boosting Accuracy: 0.95\n",
            "Logistic Regression Accuracy: 0.9125\n",
            "Naive Bayes Accuracy: 0.6125\n",
            "Random Forest Accuracy: 0.9125\n",
            "Support Vector Machine Accuracy: 0.9125\n",
            "Neural Network Accuracy: 0.9125\n",
            "Extra Trees Accuracy: 0.9625\n",
            "AdaBoost Accuracy: 0.9375\n",
            "Bagging Accuracy: 0.95\n"
          ]
        },
        {
          "output_type": "stream",
          "name": "stderr",
          "text": [
            "/usr/local/lib/python3.10/dist-packages/sklearn/ensemble/_base.py:166: FutureWarning: `base_estimator` was renamed to `estimator` in version 1.2 and will be removed in 1.4.\n",
            "  warnings.warn(\n"
          ]
        }
      ]
    },
    {
      "cell_type": "markdown",
      "source": [
        "**Plot**"
      ],
      "metadata": {
        "id": "GVEmbT6NlQtf"
      }
    },
    {
      "cell_type": "code",
      "source": [
        "import matplotlib.pyplot as plt\n",
        "\n",
        "accuracy_scores = {}\n",
        "\n",
        "#Update the loop to calculate and store the accuracy scores:\n",
        "for name, classifier in classifiers:\n",
        "    classifier.fit(X_train, y_train)\n",
        "    y_pred = classifier.predict(X_test)\n",
        "    accuracy = accuracy_score(y_test, y_pred)\n",
        "    accuracy_scores[name] = accuracy\n",
        "\n",
        "#Plot the results:\n",
        "fig, ax = plt.subplots(figsize=(10, 6))\n",
        "ax.bar(accuracy_scores.keys(), accuracy_scores.values())\n",
        "ax.set_xlabel('ML Algorithms')\n",
        "ax.set_ylabel('Accuracy Score')\n",
        "ax.set_title('Average Accuracy Score for each ML Algorithm')\n",
        "plt.xticks(rotation=45)\n",
        "plt.show()\n"
      ],
      "metadata": {
        "colab": {
          "base_uri": "https://localhost:8080/",
          "height": 732
        },
        "id": "Mjn9Yj72lSqF",
        "outputId": "a8590cb0-f1b2-4ae5-dc3b-43a513bb1523"
      },
      "execution_count": 58,
      "outputs": [
        {
          "output_type": "stream",
          "name": "stderr",
          "text": [
            "/usr/local/lib/python3.10/dist-packages/sklearn/ensemble/_base.py:166: FutureWarning: `base_estimator` was renamed to `estimator` in version 1.2 and will be removed in 1.4.\n",
            "  warnings.warn(\n"
          ]
        },
        {
          "output_type": "display_data",
          "data": {
            "text/plain": [
              "<Figure size 1000x600 with 1 Axes>"
            ],
            "image/png": "[encoded data removed]"
          },
          "metadata": {}
        }
      ]
    }
  ]
}
