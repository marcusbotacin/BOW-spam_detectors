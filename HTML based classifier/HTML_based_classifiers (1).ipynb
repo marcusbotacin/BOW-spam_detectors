{
  "nbformat": 4,
  "nbformat_minor": 0,
  "metadata": {
    "colab": {
      "provenance": []
    },
    "kernelspec": {
      "name": "python3",
      "display_name": "Python 3"
    },
    "language_info": {
      "name": "python"
    }
  },
  "cells": [
    {
      "cell_type": "code",
      "source": [
        "import csv\n",
        "import zipfile\n",
        "import re\n",
        "import pandas as pd\n",
        "import numpy as np"
      ],
      "metadata": {
        "id": "CCK8yXU1rgII"
      },
      "execution_count": 28,
      "outputs": []
    },
    {
      "cell_type": "markdown",
      "source": [
        "**Feature Extraction**"
      ],
      "metadata": {
        "id": "J5y_4wXUxn__"
      }
    },
    {
      "cell_type": "code",
      "source": [
        "def extract_number_of_links(html_content):\n",
        "    links = re.findall(r'<a[^>]*href=[^>]*>', html_content)\n",
        "    return len(links)\n",
        "\n",
        "def extract_number_of_domains(html_content):\n",
        "    domains = re.findall(r'<a[^>]*href=[\"\\'](http[s]?://([^/]+))[\"\\'][^>]*>', html_content)\n",
        "    distinct_domains = set(domains)\n",
        "    return len(distinct_domains)\n",
        "\n",
        "def extract_number_of_dots(html_content):\n",
        "    dots_count = 0\n",
        "    links = re.findall(r'<a[^>]*href=[^>]*>', html_content)\n",
        "    for link in links:\n",
        "        dots_count = max(dots_count, link.count('.'))\n",
        "    return dots_count\n",
        "\n",
        "def extract_contains_javascript(html_content):\n",
        "    return 'script' in html_content.lower()\n",
        "\n",
        "def extract_features_from_zip(zip_file_path):\n",
        "    features = []\n",
        "    with zipfile.ZipFile(zip_file_path, 'r') as zip_ref:\n",
        "        for file_name in zip_ref.namelist():\n",
        "            if file_name.endswith('.txt'):\n",
        "                with zip_ref.open(file_name) as file:\n",
        "                    html_content = file.read().decode('utf-8')  # Assuming text files are encoded in UTF-8\n",
        "                    feature = [\n",
        "                        extract_number_of_links(html_content),\n",
        "                        extract_number_of_domains(html_content),\n",
        "                        extract_number_of_dots(html_content),\n",
        "                        extract_contains_javascript(html_content)\n",
        "                    ]\n",
        "                    features.append(feature)\n",
        "    return features\n",
        "\n",
        "def export_features_to_csv(features, csv_file_path):\n",
        "    with open(csv_file_path, 'w', newline='') as csv_file:\n",
        "        writer = csv.writer(csv_file)\n",
        "        writer.writerow(['Number of Links', 'Number of Domains', 'Number of Dots', 'Contains JavaScript'])\n",
        "        writer.writerows(features)"
      ],
      "metadata": {
        "id": "d3MWtNM1vNBR"
      },
      "execution_count": null,
      "outputs": []
    },
    {
      "cell_type": "code",
      "source": [
        "# Specify the path to the phishing zip files\n",
        "phishing_zip_file_1 = 'phishing_txt_files.zip'\n",
        "phishing_zip_file_2 = 'txt_files.zip'\n",
        "benign_zip_file = 'benign_txt_files.zip'\n",
        "\n",
        "# Extract features from the phishing zip files\n",
        "phishing_features_1 = extract_features_from_zip(phishing_zip_file_1)\n",
        "phishing_features_2 = extract_features_from_zip(phishing_zip_file_2)\n",
        "benign_features = extract_features_from_zip(benign_zip_file)\n",
        "\n",
        "# Specify the paths for exporting the features to CSV files\n",
        "phishing_csv_file_1 = 'phishing_features_1.csv'\n",
        "phishing_csv_file_2 = 'phishing_features_2.csv'\n",
        "benign_csv_file = 'benign_features.csv'\n",
        "\n",
        "# Export phishing features to separate CSV files\n",
        "export_features_to_csv(phishing_features_1, phishing_csv_file_1)\n",
        "export_features_to_csv(phishing_features_2, phishing_csv_file_2)\n",
        "\n",
        "# Export benign features to a separate CSV file\n",
        "export_features_to_csv(benign_features, benign_csv_file)\n",
        "\n",
        "print(\"Phishing features 1 exported to CSV file:\", phishing_csv_file_1)\n",
        "print(\"Phishing features 2 exported to CSV file:\", phishing_csv_file_2)\n",
        "print(\"Benign features exported to CSV file:\", benign_csv_file)"
      ],
      "metadata": {
        "colab": {
          "base_uri": "https://localhost:8080/"
        },
        "id": "E6dZ7p1RvNns",
        "outputId": "ea9c030b-995e-4123-af3f-0cb894864039"
      },
      "execution_count": 22,
      "outputs": [
        {
          "output_type": "stream",
          "name": "stdout",
          "text": [
            "Phishing features 1 exported to CSV file: phishing_features_1.csv\n",
            "Phishing features 2 exported to CSV file: phishing_features_2.csv\n",
            "Benign features exported to CSV file: benign_features.csv\n"
          ]
        }
      ]
    },
    {
      "cell_type": "markdown",
      "source": [
        "Labelling HAM/SPAM"
      ],
      "metadata": {
        "id": "2xpVV4_Y1fKU"
      }
    },
    {
      "cell_type": "code",
      "source": [
        "# Specify the path to the benign features CSV file\n",
        "benign_csv_file = 'benign_features.csv'\n",
        "\n",
        "# Read the existing benign features from the CSV file\n",
        "benign_features = []\n",
        "with open(benign_csv_file, 'r') as csv_file:\n",
        "    reader = csv.reader(csv_file)\n",
        "    header = next(reader)\n",
        "    for row in reader:\n",
        "        benign_features.append(row)\n",
        "\n",
        "# Add 'Label' column with 'HAM' value to benign features\n",
        "benign_features_with_label = [['HAM'] + row for row in benign_features]\n",
        "\n",
        "# Specify the path for the updated benign features CSV file\n",
        "updated_benign_csv_file = 'benign_features_with_label.csv'\n",
        "\n",
        "# Write the updated benign features to the CSV file\n",
        "with open(updated_benign_csv_file, 'w', newline='') as csv_file:\n",
        "    writer = csv.writer(csv_file)\n",
        "    writer.writerow(['Label'] + header)\n",
        "    writer.writerows(benign_features_with_label)\n",
        "\n",
        "print(\"Benign features with 'Label' exported to CSV file:\", updated_benign_csv_file)\n"
      ],
      "metadata": {
        "colab": {
          "base_uri": "https://localhost:8080/"
        },
        "id": "ZNhHL1bfzTn2",
        "outputId": "7fd10204-c47b-4c2e-87b9-ecd3c5527e40"
      },
      "execution_count": 23,
      "outputs": [
        {
          "output_type": "stream",
          "name": "stdout",
          "text": [
            "Benign features with 'Label' exported to CSV file: benign_features_with_label.csv\n"
          ]
        }
      ]
    },
    {
      "cell_type": "code",
      "source": [
        "# Specify the paths to the phishing CSV files\n",
        "phishing_csv_file_1 = 'phishing_features_1.csv'\n",
        "phishing_csv_file_2 = 'phishing_features_2.csv'\n",
        "\n",
        "# Specify the path for the merged CSV file\n",
        "merged_csv_file = 'phishing_features_with_label.csv'\n",
        "\n",
        "# Read the content from phishing CSV file 1\n",
        "phishing_features_1 = []\n",
        "with open(phishing_csv_file_1, 'r') as csv_file:\n",
        "    reader = csv.reader(csv_file)\n",
        "    header = next(reader)\n",
        "    phishing_features_1 = list(reader)\n",
        "\n",
        "# Read the content from phishing CSV file 2\n",
        "phishing_features_2 = []\n",
        "with open(phishing_csv_file_2, 'r') as csv_file:\n",
        "    reader = csv.reader(csv_file)\n",
        "    header = next(reader)\n",
        "    phishing_features_2 = list(reader)\n",
        "\n",
        "# Merge the phishing features\n",
        "merged_phishing_features = phishing_features_1 + phishing_features_2\n",
        "\n",
        "# Add the 'Label' column with 'SPAM' value\n",
        "merged_phishing_features_with_label = [['SPAM'] + row for row in merged_phishing_features]\n",
        "\n",
        "# Write the merged phishing features with 'Label' to the merged CSV file\n",
        "with open(merged_csv_file, 'w', newline='') as csv_file:\n",
        "    writer = csv.writer(csv_file)\n",
        "    writer.writerow(['Label'] + header)\n",
        "    writer.writerows(merged_phishing_features_with_label)\n",
        "\n",
        "print(\"Phishing features merged and exported to CSV file:\", merged_csv_file)\n"
      ],
      "metadata": {
        "colab": {
          "base_uri": "https://localhost:8080/"
        },
        "id": "lzqMkh6gwyJa",
        "outputId": "06567d4a-6863-4e16-a264-d9007ee05c7d"
      },
      "execution_count": 24,
      "outputs": [
        {
          "output_type": "stream",
          "name": "stdout",
          "text": [
            "Phishing features merged and exported to CSV file: phishing_features_with_label.csv\n"
          ]
        }
      ]
    },
    {
      "cell_type": "markdown",
      "source": [
        "Merged Features"
      ],
      "metadata": {
        "id": "J4yY2dU-1mmt"
      }
    },
    {
      "cell_type": "code",
      "source": [
        "# Specify the paths to the benign features CSV file and phishing features CSV file\n",
        "benign_csv_file = 'benign_features_with_label.csv'\n",
        "phishing_csv_file = 'phishing_features_with_label.csv'\n",
        "\n",
        "# Specify the path for the merged CSV file\n",
        "merged_csv_file = 'merged_features.csv'\n",
        "\n",
        "# Read the content from the benign CSV file into a DataFrame\n",
        "benign_df = pd.read_csv(benign_csv_file)\n",
        "\n",
        "# Read the content from the phishing CSV file into a DataFrame\n",
        "phishing_df = pd.read_csv(phishing_csv_file)\n",
        "\n",
        "# Merge the benign and phishing DataFrames randomly\n",
        "merged_df = pd.concat([benign_df, phishing_df], ignore_index=True)\n",
        "merged_df = merged_df.sample(frac=1, random_state=42).reset_index(drop=True)\n",
        "\n",
        "# Write the merged DataFrame to the merged CSV file\n",
        "merged_df.to_csv(merged_csv_file, index=False)\n",
        "\n",
        "print(\"Benign and phishing features merged randomly and exported to CSV file:\", merged_csv_file)\n"
      ],
      "metadata": {
        "colab": {
          "base_uri": "https://localhost:8080/"
        },
        "id": "lNal4rUT0egl",
        "outputId": "cd628a52-f4a0-4d0d-b5e4-975d7ea994a9"
      },
      "execution_count": 27,
      "outputs": [
        {
          "output_type": "stream",
          "name": "stdout",
          "text": [
            "Benign and phishing features merged randomly and exported to CSV file: merged_features.csv\n"
          ]
        }
      ]
    },
    {
      "cell_type": "markdown",
      "source": [
        "**ML Modelling**"
      ],
      "metadata": {
        "id": "WxP0GdKD27YZ"
      }
    },
    {
      "cell_type": "code",
      "source": [
        "from sklearn.model_selection import cross_val_score, KFold\n",
        "from sklearn.ensemble import RandomForestClassifier, AdaBoostClassifier\n",
        "from sklearn.svm import SVC\n",
        "from sklearn.tree import DecisionTreeClassifier\n",
        "from sklearn.neighbors import KNeighborsClassifier\n",
        "from sklearn.linear_model import Perceptron\n",
        "from sklearn.naive_bayes import GaussianNB\n",
        "from sklearn import tree"
      ],
      "metadata": {
        "id": "o9V0hsJIcEJH"
      },
      "execution_count": null,
      "outputs": []
    },
    {
      "cell_type": "code",
      "source": [
        "# Load the merged dataset from the CSV file\n",
        "dataset = pd.read_csv('merged_features.csv')\n",
        "\n",
        "# Prepare the feature matrix and label vector\n",
        "X = dataset.iloc[:, 1:].to_numpy()  # Extract feature columns as a NumPy array\n",
        "y = dataset['Label'].to_numpy()  # Extract label column as a NumPy array"
      ],
      "metadata": {
        "id": "ZI6gy_bH4HEF"
      },
      "execution_count": 32,
      "outputs": []
    },
    {
      "cell_type": "code",
      "source": [
        "dataset.head()"
      ],
      "metadata": {
        "colab": {
          "base_uri": "https://localhost:8080/",
          "height": 206
        },
        "id": "Hp-lH0tJ4VvS",
        "outputId": "db7bf912-fb57-4633-9dfa-1ead715e4869"
      },
      "execution_count": 31,
      "outputs": [
        {
          "output_type": "execute_result",
          "data": {
            "text/plain": [
              "  Label  Number of Links  Number of Domains  Number of Dots  \\\n",
              "0   HAM                1                  0               1   \n",
              "1   HAM               17                  2               3   \n",
              "2  SPAM                0                  0               0   \n",
              "3   HAM                1                  1               1   \n",
              "4  SPAM                0                  0               0   \n",
              "\n",
              "   Contains JavaScript  \n",
              "0                 True  \n",
              "1                 True  \n",
              "2                False  \n",
              "3                 True  \n",
              "4                False  "
            ],
            "text/html": [
              "\n",
              "\n",
              "  <div id=\"df-bfb36fd8-04d1-404a-8f99-bf33efd24eb4\">\n",
              "    <div class=\"colab-df-container\">\n",
              "      <div>\n",
              "<style scoped>\n",
              "    .dataframe tbody tr th:only-of-type {\n",
              "        vertical-align: middle;\n",
              "    }\n",
              "\n",
              "    .dataframe tbody tr th {\n",
              "        vertical-align: top;\n",
              "    }\n",
              "\n",
              "    .dataframe thead th {\n",
              "        text-align: right;\n",
              "    }\n",
              "</style>\n",
              "<table border=\"1\" class=\"dataframe\">\n",
              "  <thead>\n",
              "    <tr style=\"text-align: right;\">\n",
              "      <th></th>\n",
              "      <th>Label</th>\n",
              "      <th>Number of Links</th>\n",
              "      <th>Number of Domains</th>\n",
              "      <th>Number of Dots</th>\n",
              "      <th>Contains JavaScript</th>\n",
              "    </tr>\n",
              "  </thead>\n",
              "  <tbody>\n",
              "    <tr>\n",
              "      <th>0</th>\n",
              "      <td>HAM</td>\n",
              "      <td>1</td>\n",
              "      <td>0</td>\n",
              "      <td>1</td>\n",
              "      <td>True</td>\n",
              "    </tr>\n",
              "    <tr>\n",
              "      <th>1</th>\n",
              "      <td>HAM</td>\n",
              "      <td>17</td>\n",
              "      <td>2</td>\n",
              "      <td>3</td>\n",
              "      <td>True</td>\n",
              "    </tr>\n",
              "    <tr>\n",
              "      <th>2</th>\n",
              "      <td>SPAM</td>\n",
              "      <td>0</td>\n",
              "      <td>0</td>\n",
              "      <td>0</td>\n",
              "      <td>False</td>\n",
              "    </tr>\n",
              "    <tr>\n",
              "      <th>3</th>\n",
              "      <td>HAM</td>\n",
              "      <td>1</td>\n",
              "      <td>1</td>\n",
              "      <td>1</td>\n",
              "      <td>True</td>\n",
              "    </tr>\n",
              "    <tr>\n",
              "      <th>4</th>\n",
              "      <td>SPAM</td>\n",
              "      <td>0</td>\n",
              "      <td>0</td>\n",
              "      <td>0</td>\n",
              "      <td>False</td>\n",
              "    </tr>\n",
              "  </tbody>\n",
              "</table>\n",
              "</div>\n",
              "      <button class=\"colab-df-convert\" onclick=\"convertToInteractive('df-bfb36fd8-04d1-404a-8f99-bf33efd24eb4')\"\n",
              "              title=\"Convert this dataframe to an interactive table.\"\n",
              "              style=\"display:none;\">\n",
              "\n",
              "  <svg xmlns=\"http://www.w3.org/2000/svg\" height=\"24px\"viewBox=\"0 0 24 24\"\n",
              "       width=\"24px\">\n",
              "    <path d=\"M0 0h24v24H0V0z\" fill=\"none\"/>\n",
              "    <path d=\"M18.56 5.44l.94 2.06.94-2.06 2.06-.94-2.06-.94-.94-2.06-.94 2.06-2.06.94zm-11 1L8.5 8.5l.94-2.06 2.06-.94-2.06-.94L8.5 2.5l-.94 2.06-2.06.94zm10 10l.94 2.06.94-2.06 2.06-.94-2.06-.94-.94-2.06-.94 2.06-2.06.94z\"/><path d=\"M17.41 7.96l-1.37-1.37c-.4-.4-.92-.59-1.43-.59-.52 0-1.04.2-1.43.59L10.3 9.45l-7.72 7.72c-.78.78-.78 2.05 0 2.83L4 21.41c.39.39.9.59 1.41.59.51 0 1.02-.2 1.41-.59l7.78-7.78 2.81-2.81c.8-.78.8-2.07 0-2.86zM5.41 20L4 18.59l7.72-7.72 1.47 1.35L5.41 20z\"/>\n",
              "  </svg>\n",
              "      </button>\n",
              "\n",
              "\n",
              "\n",
              "    <div id=\"df-548bf39f-2643-443a-a06e-a621334f8c0b\">\n",
              "      <button class=\"colab-df-quickchart\" onclick=\"quickchart('df-548bf39f-2643-443a-a06e-a621334f8c0b')\"\n",
              "              title=\"Suggest charts.\"\n",
              "              style=\"display:none;\">\n",
              "\n",
              "<svg xmlns=\"http://www.w3.org/2000/svg\" height=\"24px\"viewBox=\"0 0 24 24\"\n",
              "     width=\"24px\">\n",
              "    <g>\n",
              "        <path d=\"M19 3H5c-1.1 0-2 .9-2 2v14c0 1.1.9 2 2 2h14c1.1 0 2-.9 2-2V5c0-1.1-.9-2-2-2zM9 17H7v-7h2v7zm4 0h-2V7h2v10zm4 0h-2v-4h2v4z\"/>\n",
              "    </g>\n",
              "</svg>\n",
              "      </button>\n",
              "    </div>\n",
              "\n",
              "<style>\n",
              "  .colab-df-quickchart {\n",
              "    background-color: #E8F0FE;\n",
              "    border: none;\n",
              "    border-radius: 50%;\n",
              "    cursor: pointer;\n",
              "    display: none;\n",
              "    fill: #1967D2;\n",
              "    height: 32px;\n",
              "    padding: 0 0 0 0;\n",
              "    width: 32px;\n",
              "  }\n",
              "\n",
              "  .colab-df-quickchart:hover {\n",
              "    background-color: #E2EBFA;\n",
              "    box-shadow: 0px 1px 2px rgba(60, 64, 67, 0.3), 0px 1px 3px 1px rgba(60, 64, 67, 0.15);\n",
              "    fill: #174EA6;\n",
              "  }\n",
              "\n",
              "  [theme=dark] .colab-df-quickchart {\n",
              "    background-color: #3B4455;\n",
              "    fill: #D2E3FC;\n",
              "  }\n",
              "\n",
              "  [theme=dark] .colab-df-quickchart:hover {\n",
              "    background-color: #434B5C;\n",
              "    box-shadow: 0px 1px 3px 1px rgba(0, 0, 0, 0.15);\n",
              "    filter: drop-shadow(0px 1px 2px rgba(0, 0, 0, 0.3));\n",
              "    fill: #FFFFFF;\n",
              "  }\n",
              "</style>\n",
              "\n",
              "    <script>\n",
              "      async function quickchart(key) {\n",
              "        const containerElement = document.querySelector('#' + key);\n",
              "        const charts = await google.colab.kernel.invokeFunction(\n",
              "            'suggestCharts', [key], {});\n",
              "      }\n",
              "    </script>\n",
              "\n",
              "      <script>\n",
              "\n",
              "function displayQuickchartButton(domScope) {\n",
              "  let quickchartButtonEl =\n",
              "    domScope.querySelector('#df-548bf39f-2643-443a-a06e-a621334f8c0b button.colab-df-quickchart');\n",
              "  quickchartButtonEl.style.display =\n",
              "    google.colab.kernel.accessAllowed ? 'block' : 'none';\n",
              "}\n",
              "\n",
              "        displayQuickchartButton(document);\n",
              "      </script>\n",
              "      <style>\n",
              "    .colab-df-container {\n",
              "      display:flex;\n",
              "      flex-wrap:wrap;\n",
              "      gap: 12px;\n",
              "    }\n",
              "\n",
              "    .colab-df-convert {\n",
              "      background-color: #E8F0FE;\n",
              "      border: none;\n",
              "      border-radius: 50%;\n",
              "      cursor: pointer;\n",
              "      display: none;\n",
              "      fill: #1967D2;\n",
              "      height: 32px;\n",
              "      padding: 0 0 0 0;\n",
              "      width: 32px;\n",
              "    }\n",
              "\n",
              "    .colab-df-convert:hover {\n",
              "      background-color: #E2EBFA;\n",
              "      box-shadow: 0px 1px 2px rgba(60, 64, 67, 0.3), 0px 1px 3px 1px rgba(60, 64, 67, 0.15);\n",
              "      fill: #174EA6;\n",
              "    }\n",
              "\n",
              "    [theme=dark] .colab-df-convert {\n",
              "      background-color: #3B4455;\n",
              "      fill: #D2E3FC;\n",
              "    }\n",
              "\n",
              "    [theme=dark] .colab-df-convert:hover {\n",
              "      background-color: #434B5C;\n",
              "      box-shadow: 0px 1px 3px 1px rgba(0, 0, 0, 0.15);\n",
              "      filter: drop-shadow(0px 1px 2px rgba(0, 0, 0, 0.3));\n",
              "      fill: #FFFFFF;\n",
              "    }\n",
              "  </style>\n",
              "\n",
              "      <script>\n",
              "        const buttonEl =\n",
              "          document.querySelector('#df-bfb36fd8-04d1-404a-8f99-bf33efd24eb4 button.colab-df-convert');\n",
              "        buttonEl.style.display =\n",
              "          google.colab.kernel.accessAllowed ? 'block' : 'none';\n",
              "\n",
              "        async function convertToInteractive(key) {\n",
              "          const element = document.querySelector('#df-bfb36fd8-04d1-404a-8f99-bf33efd24eb4');\n",
              "          const dataTable =\n",
              "            await google.colab.kernel.invokeFunction('convertToInteractive',\n",
              "                                                     [key], {});\n",
              "          if (!dataTable) return;\n",
              "\n",
              "          const docLinkHtml = 'Like what you see? Visit the ' +\n",
              "            '<a target=\"_blank\" href=https://colab.research.google.com/notebooks/data_table.ipynb>data table notebook</a>'\n",
              "            + ' to learn more about interactive tables.';\n",
              "          element.innerHTML = '';\n",
              "          dataTable['output_type'] = 'display_data';\n",
              "          await google.colab.output.renderOutput(dataTable, element);\n",
              "          const docLink = document.createElement('div');\n",
              "          docLink.innerHTML = docLinkHtml;\n",
              "          element.appendChild(docLink);\n",
              "        }\n",
              "      </script>\n",
              "    </div>\n",
              "  </div>\n"
            ]
          },
          "metadata": {},
          "execution_count": 31
        }
      ]
    },
    {
      "cell_type": "code",
      "source": [
        "# Initialize the classifiers and create a list of classifiers\n",
        "random_forest = RandomForestClassifier(random_state=42)\n",
        "svm = SVC(C=10, random_state=42)\n",
        "ripper = tree.DecisionTreeClassifier(criterion=\"entropy\", max_depth=3)\n",
        "decision_table = tree.DecisionTreeClassifier(criterion=\"entropy\", max_depth=5)\n",
        "knn = KNeighborsClassifier()\n",
        "one_r = tree.DecisionTreeClassifier(criterion=\"entropy\", max_depth=1)\n",
        "alternating_decision_tree = tree.DecisionTreeClassifier(criterion=\"entropy\", max_depth=5)\n",
        "decision_stump = DecisionTreeClassifier(max_depth=1)\n",
        "pruned_c45_tree = tree.DecisionTreeClassifier(criterion=\"entropy\", max_depth=5)\n",
        "hybrid_tree_with_nb_leaves = tree.DecisionTreeClassifier(criterion=\"entropy\", max_depth=5)\n",
        "random_tree = tree.DecisionTreeClassifier(criterion=\"entropy\", max_depth=None)\n",
        "ada_boosted_c45_tree = AdaBoostClassifier(estimator=pruned_c45_tree)\n",
        "ada_boosted_decision_stump = AdaBoostClassifier(estimator=decision_stump)\n",
        "voted_perceptron = Perceptron()\n",
        "bayes_net = GaussianNB()\n",
        "naive_bayes = GaussianNB()\n",
        "\n",
        "# Initialize classifiers\n",
        "classifiers = [\n",
        "    (\"Random Forest\", random_forest),\n",
        "    (\"SVM\", svm),\n",
        "    (\"RIPPER\", ripper),\n",
        "    (\"Decision Table\", decision_table),\n",
        "    (\"K-Nearest Neighbors\", knn),\n",
        "    (\"1R\", one_r),\n",
        "    (\"Alternating Decision Tree\", alternating_decision_tree),\n",
        "    (\"Decision Stump\", decision_stump),\n",
        "    (\"Pruned C4.5 Tree\", pruned_c45_tree),\n",
        "    (\"Hybrid Tree with Naive Bayes Leaves\", hybrid_tree_with_nb_leaves),\n",
        "    (\"Random Tree (1 random attribute/node)\", random_tree),\n",
        "    (\"AdaBoosted C4.5 Tree\", ada_boosted_c45_tree),\n",
        "    (\"AdaBoosted Decision Stump\", ada_boosted_decision_stump),\n",
        "    (\"Voted Perceptron\", voted_perceptron),\n",
        "    (\"Bayes Net\", bayes_net),\n",
        "    (\"Naive Bayes\", naive_bayes)\n",
        "]\n"
      ],
      "metadata": {
        "id": "Zn4-l7nV-J47"
      },
      "execution_count": null,
      "outputs": []
    },
    {
      "cell_type": "code",
      "source": [
        "# Perform 10-fold cross-validation for each classifier and evaluate their performance\n",
        "for classifier_name, classifier in classifiers:\n",
        "    kf = KFold(n_splits=10, random_state=42, shuffle=True)\n",
        "    fp_values = np.zeros(10)  # Initialize the array with zeros\n",
        "    fn_values = np.zeros(10)  # Initialize the array with zeros\n",
        "\n",
        "    for i, (train_index, test_index) in enumerate(kf.split(X)):\n",
        "        X_train, X_test = X[train_index], X[test_index]\n",
        "        y_train, y_test = y[train_index], y[test_index]\n",
        "\n",
        "        classifier.fit(X_train, y_train)\n",
        "        y_pred = classifier.predict(X_test)\n",
        "\n",
        "        fp_values[i] = np.sum((y_pred == 1) & (y_test == 0))\n",
        "        fn_values[i] = np.sum((y_pred == 0) & (y_test == 1))\n",
        "\n",
        "    fp = np.mean(fp_values)\n",
        "    fn = np.mean(fn_values)\n",
        "    f = (fp + fn) / 2\n",
        "    sigma_fp = np.mean((fp_values - f) ** 2)\n",
        "    sigma_fn = np.mean((fn_values - f) ** 2)\n",
        "\n",
        "    # Print the classifier's performance metrics\n",
        "    print(\"Classifier:\", classifier_name)\n",
        "    print(\"f:\", f)\n",
        "    print(\"p:\", f)\n",
        "    print(\"σfp:\", sigma_fp)\n",
        "    print(\"fn:\", fn)\n",
        "    print(\"σfn:\", sigma_fn)\n",
        "    print()\n"
      ],
      "metadata": {
        "id": "98lkIJZI-r5m"
      },
      "execution_count": null,
      "outputs": []
    },
    {
      "cell_type": "code",
      "source": [
        "# Perform 10-fold cross-validation for each classifier and evaluate their performance\n",
        "from sklearn.metrics import accuracy_score\n",
        "\n",
        "accuracy_scores = []\n",
        "\n",
        "for classifier_name, classifier in classifiers:\n",
        "    kf = KFold(n_splits=10, random_state=42, shuffle=True)\n",
        "    accuracy_values = []\n",
        "\n",
        "    for train_index, test_index in kf.split(X):\n",
        "        X_train, X_test = X[train_index], X[test_index]\n",
        "        y_train, y_test = y[train_index], y[test_index]\n",
        "\n",
        "        classifier.fit(X_train, y_train)\n",
        "        y_pred = classifier.predict(X_test)\n",
        "\n",
        "        accuracy = accuracy_score(y_test, y_pred)\n",
        "        accuracy_values.append(accuracy)\n",
        "\n",
        "    mean_accuracy = np.mean(accuracy_values)\n",
        "    accuracy_scores.append(mean_accuracy)\n",
        "    std_accuracy = np.std(accuracy_values)\n",
        "\n",
        "    # Print the classifier's performance metrics\n",
        "    print(\"Classifier:\", classifier_name)\n",
        "    print(\"Mean Accuracy:\", mean_accuracy)\n",
        "    print(\"Standard Deviation of Accuracy:\", std_accuracy)\n",
        "    print()\n"
      ],
      "metadata": {
        "colab": {
          "base_uri": "https://localhost:8080/"
        },
        "id": "CF_g4-7b_6GI",
        "outputId": "ce2d3c59-804b-44ff-fa43-83837d008fb5"
      },
      "execution_count": 65,
      "outputs": [
        {
          "output_type": "stream",
          "name": "stdout",
          "text": [
            "Classifier: Random Forest\n",
            "Mean Accuracy: 0.8408730158730158\n",
            "Standard Deviation of Accuracy: 0.057133211267003194\n",
            "\n",
            "Classifier: SVM\n",
            "Mean Accuracy: 0.6677248677248677\n",
            "Standard Deviation of Accuracy: 0.04563702932019468\n",
            "\n",
            "Classifier: RIPPER\n",
            "Mean Accuracy: 0.8628306878306878\n",
            "Standard Deviation of Accuracy: 0.05812299358181762\n",
            "\n",
            "Classifier: Decision Table\n",
            "Mean Accuracy: 0.8447089947089946\n",
            "Standard Deviation of Accuracy: 0.04862690057790601\n",
            "\n",
            "Classifier: K-Nearest Neighbors\n",
            "Mean Accuracy: 0.8485449735449736\n",
            "Standard Deviation of Accuracy: 0.07333162022629322\n",
            "\n",
            "Classifier: 1R\n",
            "Mean Accuracy: 0.8157407407407407\n",
            "Standard Deviation of Accuracy: 0.08039031366230776\n",
            "\n",
            "Classifier: Alternating Decision Tree\n",
            "Mean Accuracy: 0.8447089947089946\n",
            "Standard Deviation of Accuracy: 0.04862690057790601\n",
            "\n",
            "Classifier: Decision Stump\n",
            "Mean Accuracy: 0.8157407407407407\n",
            "Standard Deviation of Accuracy: 0.08039031366230776\n",
            "\n",
            "Classifier: Pruned C4.5 Tree\n",
            "Mean Accuracy: 0.8411375661375662\n",
            "Standard Deviation of Accuracy: 0.05143598075178709\n",
            "\n",
            "Classifier: Hybrid Tree with Naive Bayes Leaves\n",
            "Mean Accuracy: 0.8411375661375662\n",
            "Standard Deviation of Accuracy: 0.05143598075178709\n",
            "\n",
            "Classifier: Random Tree (1 random attribute/node)\n",
            "Mean Accuracy: 0.8339947089947091\n",
            "Standard Deviation of Accuracy: 0.04864147092115581\n",
            "\n",
            "Classifier: AdaBoosted C4.5 Tree\n",
            "Mean Accuracy: 0.8195767195767194\n",
            "Standard Deviation of Accuracy: 0.05766406916584989\n",
            "\n",
            "Classifier: AdaBoosted Decision Stump\n",
            "Mean Accuracy: 0.8518518518518519\n",
            "Standard Deviation of Accuracy: 0.05513509320606494\n",
            "\n",
            "Classifier: Voted Perceptron\n",
            "Mean Accuracy: 0.7834656084656084\n",
            "Standard Deviation of Accuracy: 0.09226519972876432\n",
            "\n",
            "Classifier: Bayes Net\n",
            "Mean Accuracy: 0.6063492063492063\n",
            "Standard Deviation of Accuracy: 0.05290740734126654\n",
            "\n",
            "Classifier: Naive Bayes\n",
            "Mean Accuracy: 0.6063492063492063\n",
            "Standard Deviation of Accuracy: 0.05290740734126654\n",
            "\n"
          ]
        }
      ]
    },
    {
      "cell_type": "code",
      "source": [
        "import matplotlib.pyplot as plt\n",
        "\n",
        "# Plot the comparison between accuracy scores\n",
        "plt.figure(figsize=(10, 6))\n",
        "plt.bar(range(len(classifiers)), accuracy_scores, align='center')\n",
        "plt.xticks(range(len(classifiers)), [name for name, _ in classifiers], rotation=90)\n",
        "plt.xlabel('Classifiers')\n",
        "plt.ylabel('Accuracy Score')\n",
        "plt.title('Comparison of Accuracy Scores for Different Classifiers')\n",
        "plt.tight_layout()\n",
        "plt.show()\n"
      ],
      "metadata": {
        "colab": {
          "base_uri": "https://localhost:8080/",
          "height": 607
        },
        "id": "1FSH2gTg4__-",
        "outputId": "93419850-0c5c-4d13-ce7b-683487b2250e"
      },
      "execution_count": 66,
      "outputs": [
        {
          "output_type": "display_data",
          "data": {
            "text/plain": [
              "<Figure size 1000x600 with 1 Axes>"
            ],
            "image/png": "[encoded data removed]"
          },
          "metadata": {}
        }
      ]
    }
  ]
}