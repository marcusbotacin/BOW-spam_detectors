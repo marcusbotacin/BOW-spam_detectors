{
  "nbformat": 4,
  "nbformat_minor": 0,
  "metadata": {
    "colab": {
      "provenance": []
    },
    "kernelspec": {
      "name": "python3",
      "display_name": "Python 3"
    },
    "language_info": {
      "name": "python"
    }
  },
  "cells": [
    {
      "cell_type": "code",
      "execution_count": null,
      "metadata": {
        "id": "gkZ2T5EGAI0t",
        "colab": {
          "base_uri": "https://localhost:8080/"
        },
        "outputId": "31314cf6-ee27-46dc-9c11-f2d334a09dc7"
      },
      "outputs": [
        {
          "output_type": "stream",
          "name": "stdout",
          "text": [
            "Error occurred while accessing https://jaecs.co.jp.goldford.com.cn/: HTTPSConnectionPool(host='jaecs.co.jp.goldford.com.cn', port=443): Max retries exceeded with url: / (Caused by ConnectTimeoutError(<urllib3.connection.HTTPSConnection object at 0x7a171bc0f100>, 'Connection to jaecs.co.jp.goldford.com.cn timed out. (connect timeout=10)'))\n",
            "Skipping URL https://jaecs.co.jp.goldford.com.cn/ due to an error.\n",
            "Error occurred while accessing https://jaecs.co.jp.fsyifang.com.cn/: HTTPSConnectionPool(host='jaecs.co.jp.fsyifang.com.cn', port=443): Max retries exceeded with url: / (Caused by ConnectTimeoutError(<urllib3.connection.HTTPSConnection object at 0x7a171b0c77f0>, 'Connection to jaecs.co.jp.fsyifang.com.cn timed out. (connect timeout=10)'))\n",
            "Skipping URL https://jaecs.co.jp.fsyifang.com.cn/ due to an error.\n",
            "Error occurred while accessing https://jaecs.co.jp.fm881.com.cn/: HTTPSConnectionPool(host='jaecs.co.jp.fm881.com.cn', port=443): Max retries exceeded with url: / (Caused by ConnectTimeoutError(<urllib3.connection.HTTPSConnection object at 0x7a171aef8790>, 'Connection to jaecs.co.jp.fm881.com.cn timed out. (connect timeout=10)'))\n",
            "Skipping URL https://jaecs.co.jp.fm881.com.cn/ due to an error.\n",
            "Error occurred while accessing https://jaecs.co.jp.es163.com.cn/: HTTPSConnectionPool(host='jaecs.co.jp.es163.com.cn', port=443): Max retries exceeded with url: / (Caused by ConnectTimeoutError(<urllib3.connection.HTTPSConnection object at 0x7a171b0c71f0>, 'Connection to jaecs.co.jp.es163.com.cn timed out. (connect timeout=10)'))\n",
            "Skipping URL https://jaecs.co.jp.es163.com.cn/ due to an error.\n",
            "Error occurred while accessing https://jaecs.co.jp.d40.com.cn/: HTTPSConnectionPool(host='jaecs.co.jp.d40.com.cn', port=443): Max retries exceeded with url: / (Caused by ConnectTimeoutError(<urllib3.connection.HTTPSConnection object at 0x7a171aef88b0>, 'Connection to jaecs.co.jp.d40.com.cn timed out. (connect timeout=10)'))\n",
            "Skipping URL https://jaecs.co.jp.d40.com.cn/ due to an error.\n",
            "Error occurred while accessing https://jaecs.co.jp.am118.com.cn/: HTTPSConnectionPool(host='jaecs.co.jp.am118.com.cn', port=443): Max retries exceeded with url: / (Caused by ConnectTimeoutError(<urllib3.connection.HTTPSConnection object at 0x7a171aef9180>, 'Connection to jaecs.co.jp.am118.com.cn timed out. (connect timeout=10)'))\n",
            "Skipping URL https://jaecs.co.jp.am118.com.cn/ due to an error.\n",
            "Error occurred while accessing https://jacos.co.jp.rprk.com.cn/: HTTPSConnectionPool(host='jacos.co.jp.rprk.com.cn', port=443): Max retries exceeded with url: / (Caused by ConnectTimeoutError(<urllib3.connection.HTTPSConnection object at 0x7a171b0c6860>, 'Connection to jacos.co.jp.rprk.com.cn timed out. (connect timeout=10)'))\n",
            "Skipping URL https://jacos.co.jp.rprk.com.cn/ due to an error.\n",
            "Error occurred while accessing https://jacos.co.jp.rising2000.com.cn/: HTTPSConnectionPool(host='jacos.co.jp.rising2000.com.cn', port=443): Max retries exceeded with url: / (Caused by ConnectTimeoutError(<urllib3.connection.HTTPSConnection object at 0x7a171aef9a20>, 'Connection to jacos.co.jp.rising2000.com.cn timed out. (connect timeout=10)'))\n",
            "Skipping URL https://jacos.co.jp.rising2000.com.cn/ due to an error.\n",
            "Error occurred while accessing https://jacos.co.jp.meboo.com.cn/: HTTPSConnectionPool(host='jacos.co.jp.meboo.com.cn', port=443): Max retries exceeded with url: / (Caused by ConnectTimeoutError(<urllib3.connection.HTTPSConnection object at 0x7a171bc0e2c0>, 'Connection to jacos.co.jp.meboo.com.cn timed out. (connect timeout=10)'))\n",
            "Skipping URL https://jacos.co.jp.meboo.com.cn/ due to an error.\n",
            "Error occurred while accessing https://jacos.co.jp.fm881.com.cn/: HTTPSConnectionPool(host='jacos.co.jp.fm881.com.cn', port=443): Max retries exceeded with url: / (Caused by ConnectTimeoutError(<urllib3.connection.HTTPSConnection object at 0x7a171b0c6e00>, 'Connection to jacos.co.jp.fm881.com.cn timed out. (connect timeout=10)'))\n",
            "Skipping URL https://jacos.co.jp.fm881.com.cn/ due to an error.\n",
            "Error occurred while accessing https://jacos.co.jp.es163.com.cn/: HTTPSConnectionPool(host='jacos.co.jp.es163.com.cn', port=443): Max retries exceeded with url: / (Caused by ConnectTimeoutError(<urllib3.connection.HTTPSConnection object at 0x7a171aef9ff0>, 'Connection to jacos.co.jp.es163.com.cn timed out. (connect timeout=10)'))\n",
            "Skipping URL https://jacos.co.jp.es163.com.cn/ due to an error.\n",
            "Error occurred while accessing https://jacos.co.jp.d40.com.cn/: HTTPSConnectionPool(host='jacos.co.jp.d40.com.cn', port=443): Max retries exceeded with url: / (Caused by ConnectTimeoutError(<urllib3.connection.HTTPSConnection object at 0x7a171aef9330>, 'Connection to jacos.co.jp.d40.com.cn timed out. (connect timeout=10)'))\n",
            "Skipping URL https://jacos.co.jp.d40.com.cn/ due to an error.\n",
            "Error occurred while accessing https://jacos.co.jp.am118.com.cn/: HTTPSConnectionPool(host='jacos.co.jp.am118.com.cn', port=443): Max retries exceeded with url: / (Caused by ConnectTimeoutError(<urllib3.connection.HTTPSConnection object at 0x7a171aef9870>, 'Connection to jacos.co.jp.am118.com.cn timed out. (connect timeout=10)'))\n",
            "Skipping URL https://jacos.co.jp.am118.com.cn/ due to an error.\n",
            "Error occurred while accessing https://jacos.co.jp.99inn.com.cn/: HTTPSConnectionPool(host='jacos.co.jp.99inn.com.cn', port=443): Max retries exceeded with url: / (Caused by ConnectTimeoutError(<urllib3.connection.HTTPSConnection object at 0x7a171b0c6bc0>, 'Connection to jacos.co.jp.99inn.com.cn timed out. (connect timeout=10)'))\n",
            "Skipping URL https://jacos.co.jp.99inn.com.cn/ due to an error.\n",
            "Error occurred while accessing https://jaces.co.jp.rprk.com.cn/: HTTPSConnectionPool(host='jaces.co.jp.rprk.com.cn', port=443): Max retries exceeded with url: / (Caused by ConnectTimeoutError(<urllib3.connection.HTTPSConnection object at 0x7a171b0c7a30>, 'Connection to jaces.co.jp.rprk.com.cn timed out. (connect timeout=10)'))\n",
            "Skipping URL https://jaces.co.jp.rprk.com.cn/ due to an error.\n",
            "Error occurred while accessing https://jaces.co.jp.rising2000.com.cn/: HTTPSConnectionPool(host='jaces.co.jp.rising2000.com.cn', port=443): Max retries exceeded with url: / (Caused by ConnectTimeoutError(<urllib3.connection.HTTPSConnection object at 0x7a171b0c7fa0>, 'Connection to jaces.co.jp.rising2000.com.cn timed out. (connect timeout=10)'))\n",
            "Skipping URL https://jaces.co.jp.rising2000.com.cn/ due to an error.\n",
            "Error occurred while accessing https://jaces.co.jp.meboo.com.cn/: HTTPSConnectionPool(host='jaces.co.jp.meboo.com.cn', port=443): Max retries exceeded with url: / (Caused by ConnectTimeoutError(<urllib3.connection.HTTPSConnection object at 0x7a171b0c64a0>, 'Connection to jaces.co.jp.meboo.com.cn timed out. (connect timeout=10)'))\n",
            "Skipping URL https://jaces.co.jp.meboo.com.cn/ due to an error.\n",
            "Error occurred while accessing https://jaces.co.jp.goldford.com.cn/: HTTPSConnectionPool(host='jaces.co.jp.goldford.com.cn', port=443): Max retries exceeded with url: / (Caused by ConnectTimeoutError(<urllib3.connection.HTTPSConnection object at 0x7a171aef9180>, 'Connection to jaces.co.jp.goldford.com.cn timed out. (connect timeout=10)'))\n",
            "Skipping URL https://jaces.co.jp.goldford.com.cn/ due to an error.\n",
            "Error occurred while accessing https://jaces.co.jp.fsyifang.com.cn/: HTTPSConnectionPool(host='jaces.co.jp.fsyifang.com.cn', port=443): Max retries exceeded with url: / (Caused by ConnectTimeoutError(<urllib3.connection.HTTPSConnection object at 0x7a171aef9b10>, 'Connection to jaces.co.jp.fsyifang.com.cn timed out. (connect timeout=10)'))\n",
            "Skipping URL https://jaces.co.jp.fsyifang.com.cn/ due to an error.\n"
          ]
        }
      ],
      "source": [
        "import pandas as pd\n",
        "import csv\n",
        "import requests\n",
        "import os\n",
        "import sys\n",
        "\n",
        "# Increase the field size limit\n",
        "csv.field_size_limit(sys.maxsize)\n",
        "\n",
        "df = pd.read_excel(\"Phishing URLs.xlsx\")\n",
        "# Extract the URLs from the dataset\n",
        "urls = df['URL']\n",
        "\n",
        "# Function to extract HTML content from a URL\n",
        "def extract_html(url):\n",
        "    try:\n",
        "        response = requests.get(url, timeout=10)  # Add timeout parameter (adjust as needed)\n",
        "        return response.text\n",
        "    except requests.exceptions.RequestException as e:\n",
        "        print(f\"Error occurred while accessing {url}: {e}\")\n",
        "        return None\n",
        "\n",
        "# Create a directory to store individual TXT files\n",
        "txt_directory = 'txt_files'\n",
        "os.makedirs(txt_directory, exist_ok=True)\n",
        "\n",
        "# Iterate over the URLs and extract HTML content\n",
        "for i, url in enumerate(urls):\n",
        "    html = extract_html(url)\n",
        "\n",
        "    if html is not None:\n",
        "        # Specify the TXT file path\n",
        "        txt_file = os.path.join(txt_directory, f'html_{i}.txt')\n",
        "\n",
        "        # Save the HTML content as TXT\n",
        "        with open(txt_file, 'w', encoding='utf-8') as file:\n",
        "            file.write(html)\n",
        "\n",
        "        print(f\"HTML content of {url} saved as TXT: {txt_file}.\")\n",
        "    else:\n",
        "        print(f\"Skipping URL {url} due to an error.\")\n",
        "\n",
        "print(\"HTML content saved as TXT files in txt_files folder.\")\n"
      ]
    },
    {
      "cell_type": "code",
      "source": [
        "import shutil\n",
        "import os\n",
        "\n",
        "# Specify the path of the \"txt_files\" folder in Colab\n",
        "colab_folder_path = 'txt_files'\n",
        "\n",
        "# Specify the destination path and filename for the ZIP file on your local machine\n",
        "local_zip_path = '/content/txt_files.zip'\n",
        "\n",
        "# Create a ZIP file containing the \"txt_files\" folder\n",
        "shutil.make_archive('/content/txt_files', 'zip', colab_folder_path)\n",
        "\n",
        "# Move the ZIP file to the desired location\n",
        "shutil.move('/content/txt_files.zip', local_zip_path)\n",
        "\n",
        "print(\"ZIP file created successfully.\")\n",
        "\n",
        "# Provide the download link for the ZIP file\n",
        "print(\"Download the ZIP file from the following link:\")\n",
        "print(local_zip_path)\n"
      ],
      "metadata": {
        "id": "cm4qlW2wAQmo"
      },
      "execution_count": null,
      "outputs": []
    }
  ]
}