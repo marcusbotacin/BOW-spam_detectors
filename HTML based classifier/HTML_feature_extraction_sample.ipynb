{
  "nbformat": 4,
  "nbformat_minor": 0,
  "metadata": {
    "colab": {
      "provenance": []
    },
    "kernelspec": {
      "name": "python3",
      "display_name": "Python 3"
    },
    "language_info": {
      "name": "python"
    }
  },
  "cells": [
    {
      "cell_type": "code",
      "source": [
        "import numpy as np\n",
        "import pandas as pd"
      ],
      "metadata": {
        "id": "9So9DzJfTA61"
      },
      "execution_count": 1,
      "outputs": []
    },
    {
      "cell_type": "markdown",
      "source": [
        "**Feature Extraction**"
      ],
      "metadata": {
        "id": "NitfLHm46r0M"
      }
    },
    {
      "cell_type": "code",
      "source": [
        "import re\n",
        "\n",
        "def extract_html_emails(emails):\n",
        "    html_emails = []\n",
        "    for email in emails:\n",
        "        if 'text/html' in email:\n",
        "            html_emails.append(email)\n",
        "    return len(html_emails) > 0\n",
        "\n",
        "def extract_number_of_links(email):\n",
        "    links = re.findall(r'<a[^>]*href=[^>]*>', email)\n",
        "    return len(links)\n",
        "\n",
        "def extract_number_of_domains(email):\n",
        "    domains = re.findall(r'<a[^>]*href=[\"\\'](http[s]?://([^/]+))[\"\\'][^>]*>', email)\n",
        "    distinct_domains = set(domains)\n",
        "    return len(distinct_domains)\n",
        "\n",
        "def extract_number_of_dots(email):\n",
        "    dots_count = 0\n",
        "    links = re.findall(r'<a[^>]*href=[^>]*>', email)\n",
        "    for link in links:\n",
        "        dots_count = max(dots_count, link.count('.'))\n",
        "    return dots_count\n",
        "\n",
        "def extract_contains_javascript(email):\n",
        "    return 'script' in email.lower()\n",
        "\n",
        "# Example usage:\n",
        "email = \"\"\"\n",
        "<html>\n",
        "<body>\n",
        "<a href=\"http://www.example.com\">Valid URL</a>\n",
        "<a href=\"http://192.168.0.1/paypal.cgi?fix account\">IP-based URL</a>\n",
        "<a href=\"http://www.google.com\">Nonmatching URL</a>\n",
        "<a href=\"http://www.test.com\">Click here to restore</a>\n",
        "<script>alert('JavaScript')</script>\n",
        "</body>\n",
        "</html>\n",
        "\"\"\"\n",
        "\n",
        "html_emails = extract_html_emails([email])\n",
        "number_of_links = extract_number_of_links(email)\n",
        "number_of_domains = extract_number_of_domains(email)\n",
        "number_of_dots = extract_number_of_dots(email)\n",
        "contains_javascript = extract_contains_javascript(email)\n",
        "\n",
        "print(\"HTML emails:\", html_emails)\n",
        "print(\"Number of links:\", number_of_links)\n",
        "print(\"Number of domains:\", number_of_domains)\n",
        "print(\"Number of dots:\", number_of_dots)\n",
        "print(\"Contains JavaScript:\", contains_javascript)\n"
      ],
      "metadata": {
        "colab": {
          "base_uri": "https://localhost:8080/"
        },
        "id": "WReFABQ15omJ",
        "outputId": "801dd9ef-6c56-4ade-aa06-8b8db8b658c9"
      },
      "execution_count": 5,
      "outputs": [
        {
          "output_type": "stream",
          "name": "stdout",
          "text": [
            "HTML emails: False\n",
            "Number of links: 4\n",
            "Number of domains: 3\n",
            "Number of dots: 4\n",
            "Contains JavaScript: True\n"
          ]
        }
      ]
    }
  ]
}
